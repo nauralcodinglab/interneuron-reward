{
 "cells": [
  {
   "cell_type": "code",
   "execution_count": null,
   "metadata": {},
   "outputs": [],
   "source": [
    "import os\n",
    "\n",
    "import h5py\n",
    "import seaborn as sns\n",
    "import matplotlib.pyplot as plt\n",
    "import numpy as np\n",
    "from sklearn.manifold import TSNE\n",
    "\n",
    "from src.data import raw_io as io\n",
    "from src.data import conditions as cond"
   ]
  },
  {
   "cell_type": "markdown",
   "metadata": {},
   "source": [
    "# Load raw data"
   ]
  },
  {
   "cell_type": "code",
   "execution_count": null,
   "metadata": {},
   "outputs": [],
   "source": [
    "DATA_PATH = os.path.join('..', 'data', 'processed', 'trials_by_celltype')"
   ]
  },
  {
   "cell_type": "code",
   "execution_count": null,
   "metadata": {},
   "outputs": [],
   "source": [
    "def load_sessions_by_day(day: cond.Day):\n",
    "    sessions = {}\n",
    "    with h5py.File(os.path.join(DATA_PATH, str(day) + '.h5'), 'r') as f:\n",
    "        for cell_type in cond.CellType:\n",
    "            sessions[cell_type] = []\n",
    "            for mouse in f[cell_type.as_path()].keys():\n",
    "                sessions[cell_type].append(\n",
    "                    io.SessionTrials.load(f[cell_type.as_path()][mouse])\n",
    "                )\n",
    "\n",
    "        f.close()\n",
    "    \n",
    "    return sessions"
   ]
  },
  {
   "cell_type": "code",
   "execution_count": null,
   "metadata": {},
   "outputs": [],
   "source": [
    "raw_data_by_day = {\n",
    "    cond.DAYS[0]: load_sessions_by_day(cond.DAYS[0]), \n",
    "    cond.DAYS[-1]: load_sessions_by_day(cond.DAYS[-1])\n",
    "}"
   ]
  },
  {
   "cell_type": "code",
   "execution_count": null,
   "metadata": {},
   "outputs": [],
   "source": [
    "def get_mean_fluorescence_by_cell_type(daily_data):\n",
    "    mean_fluorescence = {}\n",
    "    for cell_type in daily_data.keys():\n",
    "\n",
    "        # Concatenate fluorescence of each mouse\n",
    "        mean_fluorescence[cell_type] = daily_data[cell_type][0].fluo.trial_mean()\n",
    "        for i in range(1, len(daily_data[cell_type])):\n",
    "            trial_mean_fluo = daily_data[cell_type][i].fluo.trial_mean()\n",
    "            mean_fluorescence[cell_type].append(\n",
    "                trial_mean_fluo\n",
    "            )\n",
    "            del trial_mean_fluo\n",
    "\n",
    "        print('Got {} {} cells'.format(mean_fluorescence[cell_type].fluo.shape[0], cell_type))\n",
    "        mean_fluorescence[cell_type].remove_nan()\n",
    "    \n",
    "    return mean_fluorescence"
   ]
  },
  {
   "cell_type": "code",
   "execution_count": null,
   "metadata": {},
   "outputs": [],
   "source": [
    "mean_fluorescence_by_day = {\n",
    "    day: get_mean_fluorescence_by_cell_type(raw_data_by_day[day]) \n",
    "    for day in raw_data_by_day.keys()\n",
    "}"
   ]
  },
  {
   "cell_type": "markdown",
   "metadata": {},
   "source": [
    "# Heatmaps"
   ]
  },
  {
   "cell_type": "code",
   "execution_count": null,
   "metadata": {},
   "outputs": [],
   "source": [
    "def plot_heatmaps_by_celltype(daily_mean_data):\n",
    "    for cell_type in cond.CellType:\n",
    "        print('Clustering mean {} responses'.format(cell_type))\n",
    "        g = sns.clustermap(mean_fluorescence_by_day[cond.DAYS[0]][cell_type].fluo, col_cluster=False, method='ward')\n",
    "        g.ax_heatmap.set_xticks(np.linspace(0, mean_fluorescence_by_day[cond.DAYS[0]][cell_type].num_frames, 10))\n",
    "        g.ax_heatmap.set_xticklabels([\n",
    "            '{:.1f}'.format(i) for i in\n",
    "            np.linspace(0, mean_fluorescence_by_day[cond.DAYS[0]][cell_type].duration, 10) - 2.0\n",
    "        ])\n",
    "        g.ax_heatmap.set_xlabel('Time from trial start (s)')\n",
    "        g.ax_heatmap.set_yticks([])\n",
    "        plt.show()"
   ]
  },
  {
   "cell_type": "code",
   "execution_count": null,
   "metadata": {
    "scrolled": false
   },
   "outputs": [],
   "source": [
    "for cell_type in cond.CellType:\n",
    "    print('Clustering mean {} responses'.format(cell_type))\n",
    "    g = sns.clustermap(mean_fluorescence_by_day[cond.DAYS[0]][cell_type].fluo, col_cluster=False, method='ward')\n",
    "    g.ax_heatmap.set_xticks(np.linspace(0, mean_fluorescence_by_day[cond.DAYS[0]][cell_type].num_frames, 10))\n",
    "    g.ax_heatmap.set_xticklabels([\n",
    "        '{:.1f}'.format(i) for i in\n",
    "        np.linspace(0, mean_fluorescence_by_day[cond.DAYS[0]][cell_type].duration, 10) - 2.0\n",
    "    ])\n",
    "    g.ax_heatmap.set_xlabel('Time from trial start (s)')\n",
    "    g.ax_heatmap.set_yticks([])\n",
    "    plt.show()"
   ]
  },
  {
   "cell_type": "markdown",
   "metadata": {},
   "source": [
    "# t-SNE"
   ]
  },
  {
   "cell_type": "markdown",
   "metadata": {},
   "source": [
    "## Each cell type separately"
   ]
  },
  {
   "cell_type": "code",
   "execution_count": null,
   "metadata": {},
   "outputs": [],
   "source": [
    "for cell_type in cond.CellType:\n",
    "    print('Clustering mean {} responses'.format(cell_type))\n",
    "    tsne = TSNE(perplexity=20, random_state=43)\n",
    "    projected = tsne.fit_transform(mean_fluorescence_by_day[cond.DAYS[0]][cell_type].fluo)\n",
    "    \n",
    "    plt.figure()\n",
    "    \n",
    "    plt.subplot(111)\n",
    "    plt.title(str(cell_type))\n",
    "    plt.plot(projected[:, 0], projected[:, 1], 'k.')\n",
    "    plt.show()"
   ]
  },
  {
   "cell_type": "markdown",
   "metadata": {},
   "source": [
    "## All cell types together"
   ]
  },
  {
   "cell_type": "code",
   "execution_count": null,
   "metadata": {},
   "outputs": [],
   "source": [
    "labels = []\n",
    "fluo_matrices = []\n",
    "for cell_type in cond.CellType:\n",
    "    labels.extend(\n",
    "        [\n",
    "            str(cell_type) for i in \n",
    "            range(mean_fluorescence_by_day[cond.DAYS[0]][cell_type].fluo.shape[0])\n",
    "        ]\n",
    "    )\n",
    "    fluo_matrices.append(mean_fluorescence_by_day[cond.DAYS[0]][cell_type].fluo)\n",
    "    \n",
    "min_num_frames = np.min([fl.shape[1] for fl in fluo_matrices])\n",
    "fluo_grand_matrix = np.concatenate([fl[:, :min_num_frames] for fl in fluo_matrices])"
   ]
  },
  {
   "cell_type": "code",
   "execution_count": null,
   "metadata": {},
   "outputs": [],
   "source": [
    "tsne = TSNE(perplexity=20, random_state=42, init='pca')\n",
    "projected = tsne.fit_transform(fluo_grand_matrix)"
   ]
  },
  {
   "cell_type": "code",
   "execution_count": null,
   "metadata": {},
   "outputs": [],
   "source": [
    "plt.figure(figsize=(8, 8))\n",
    "\n",
    "plt.subplot(111)\n",
    "sns.scatterplot(x=projected[:, 0], y=projected[:, 1], hue=labels, alpha=0.7)\n",
    "plt.xticks([])\n",
    "plt.yticks([])\n",
    "\n",
    "plt.show()"
   ]
  },
  {
   "cell_type": "markdown",
   "metadata": {},
   "source": [
    "### Last day"
   ]
  },
  {
   "cell_type": "code",
   "execution_count": null,
   "metadata": {},
   "outputs": [],
   "source": [
    "labels = []\n",
    "fluo_matrices = []\n",
    "for cell_type in cond.CellType:\n",
    "    labels.extend(\n",
    "        [\n",
    "            str(cell_type) for i in \n",
    "            range(mean_fluorescence_by_day[cond.DAYS[-1]][cell_type].fluo.shape[0])\n",
    "        ]\n",
    "    )\n",
    "    fluo_matrices.append(mean_fluorescence_by_day[cond.DAYS[-1]][cell_type].fluo)\n",
    "    \n",
    "min_num_frames = np.min([fl.shape[1] for fl in fluo_matrices])\n",
    "fluo_grand_matrix = np.concatenate([fl[:, :min_num_frames] for fl in fluo_matrices])"
   ]
  },
  {
   "cell_type": "code",
   "execution_count": null,
   "metadata": {},
   "outputs": [],
   "source": [
    "tsne = TSNE(perplexity=20, random_state=42, init='pca')\n",
    "projected = tsne.fit_transform(fluo_grand_matrix)"
   ]
  },
  {
   "cell_type": "code",
   "execution_count": null,
   "metadata": {},
   "outputs": [],
   "source": [
    "plt.figure(figsize=(8, 8))\n",
    "\n",
    "plt.subplot(111)\n",
    "sns.scatterplot(x=projected[:, 0], y=projected[:, 1], hue=labels, alpha=0.7)\n",
    "plt.xticks([])\n",
    "plt.yticks([])\n",
    "\n",
    "plt.show()"
   ]
  },
  {
   "cell_type": "markdown",
   "metadata": {},
   "source": [
    "## Each cell type separately"
   ]
  },
  {
   "cell_type": "code",
   "execution_count": null,
   "metadata": {},
   "outputs": [],
   "source": [
    "tsne_args = {'perplexity': 20, 'random_state': 43, 'init': 'pca'}\n",
    "\n",
    "for cell_type in cond.CellType:\n",
    "    print('Clustering mean {} responses'.format(cell_type))\n",
    "    \n",
    "    plt.figure(figsize=(10, 4))\n",
    "    \n",
    "    # First day\n",
    "    plt.subplot(131)\n",
    "    plt.title(str(cell_type) + ' ' + str(cond.DAYS[0]))\n",
    "\n",
    "    projected = TSNE(**tsne_args).fit_transform(mean_fluorescence_by_day[cond.DAYS[0]][cell_type].fluo)\n",
    "    sns.scatterplot(projected[:, 0], projected[:, 1])\n",
    "    plt.xticks([])\n",
    "    plt.xlabel('')\n",
    "    plt.yticks([])\n",
    "    plt.ylabel('')\n",
    "    \n",
    "    # Last day, only cells from first day\n",
    "    plt.subplot(132)\n",
    "    plt.title(str(cell_type) + ' ' + str(cond.DAYS[-1]) + '\\ncells from first day')\n",
    "    \n",
    "    num_first_day_cells = mean_fluorescence_by_day[cond.DAYS[0]][cell_type].fluo.shape[0]\n",
    "    projected = TSNE(**tsne_args).fit_transform(\n",
    "        mean_fluorescence_by_day[cond.DAYS[-1]][cell_type].fluo[:num_first_day_cells, :]\n",
    "    )\n",
    "    sns.scatterplot(projected[:, 0], projected[:, 1])\n",
    "    plt.xticks([])\n",
    "    plt.xlabel('')\n",
    "    plt.yticks([])\n",
    "    plt.ylabel('')\n",
    "    \n",
    "    # Last day, all cells\n",
    "    plt.subplot(133)\n",
    "    plt.title(str(cell_type) + ' ' + str(cond.DAYS[-1]) + '\\nall cells')\n",
    "    \n",
    "    projected = TSNE(**tsne_args).fit_transform(mean_fluorescence_by_day[cond.DAYS[-1]][cell_type].fluo)\n",
    "    cells_from_day = [cond.DAYS[0] for i in range(num_first_day_cells)]\n",
    "    cells_from_day.extend([cond.DAYS[-1] for i in range(\n",
    "        mean_fluorescence_by_day[cond.DAYS[-1]][cell_type].fluo.shape[0] - num_first_day_cells\n",
    "    )])\n",
    "    sns.scatterplot(projected[:, 0], projected[:, 1], hue=cells_from_day)\n",
    "    plt.xticks([])\n",
    "    plt.xlabel('')\n",
    "    plt.yticks([])\n",
    "    plt.ylabel('')\n",
    "    \n",
    "    plt.show()"
   ]
  },
  {
   "cell_type": "code",
   "execution_count": null,
   "metadata": {},
   "outputs": [],
   "source": []
  }
 ],
 "metadata": {
  "kernelspec": {
   "display_name": "Python 3",
   "language": "python",
   "name": "python3"
  },
  "language_info": {
   "codemirror_mode": {
    "name": "ipython",
    "version": 3
   },
   "file_extension": ".py",
   "mimetype": "text/x-python",
   "name": "python",
   "nbconvert_exporter": "python",
   "pygments_lexer": "ipython3",
   "version": "3.8.3"
  }
 },
 "nbformat": 4,
 "nbformat_minor": 4
}
