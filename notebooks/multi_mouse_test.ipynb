{
 "cells": [
  {
   "cell_type": "code",
   "execution_count": 1,
   "metadata": {},
   "outputs": [
    {
     "name": "stderr",
     "output_type": "stream",
     "text": [
      "\n",
      "Attaching package: ‘dplyr’\n",
      "\n",
      "The following objects are masked from ‘package:stats’:\n",
      "\n",
      "    filter, lag\n",
      "\n",
      "The following objects are masked from ‘package:base’:\n",
      "\n",
      "    intersect, setdiff, setequal, union\n",
      "\n"
     ]
    }
   ],
   "source": [
    "library(tidyr)\n",
    "library(dplyr)\n",
    "library(ggplot2)"
   ]
  },
  {
   "cell_type": "code",
   "execution_count": 2,
   "metadata": {},
   "outputs": [
    {
     "data": {
      "text/html": [
       "<table>\n",
       "<thead><tr><th scope=col>day</th><th scope=col>cell_type</th><th scope=col>cell_id</th><th scope=col>mouse_id</th><th scope=col>tone</th><th scope=col>tone...delay</th><th scope=col>delay</th><th scope=col>reward</th></tr></thead>\n",
       "<tbody>\n",
       "\t<tr><td>1           </td><td>vip         </td><td>3121        </td><td>CL136       </td><td> 0.15673343 </td><td>-0.02025768 </td><td>-0.153783321</td><td>-0.164965563</td></tr>\n",
       "\t<tr><td>7           </td><td>vip         </td><td>3121        </td><td>CL136       </td><td>-0.12500414 </td><td>-0.05046338 </td><td> 0.040303536</td><td>-0.268219990</td></tr>\n",
       "\t<tr><td>1           </td><td>vip         </td><td>3122        </td><td>CL136       </td><td> 0.31555878 </td><td> 0.18300207 </td><td>-0.032999655</td><td>-0.467529018</td></tr>\n",
       "\t<tr><td>7           </td><td>vip         </td><td>3122        </td><td>CL136       </td><td>-0.16381732 </td><td>-0.36659268 </td><td>-0.318575664</td><td>-0.044840419</td></tr>\n",
       "\t<tr><td>1           </td><td>vip         </td><td>3123        </td><td>CL136       </td><td> 0.12944190 </td><td> 0.07552554 </td><td>-0.012969963</td><td>-0.006139394</td></tr>\n",
       "\t<tr><td>7           </td><td>vip         </td><td>3123        </td><td>CL136       </td><td> 0.04045443 </td><td> 0.03288791 </td><td> 0.007422192</td><td>-0.064749027</td></tr>\n",
       "</tbody>\n",
       "</table>\n"
      ],
      "text/latex": [
       "\\begin{tabular}{r|llllllll}\n",
       " day & cell\\_type & cell\\_id & mouse\\_id & tone & tone...delay & delay & reward\\\\\n",
       "\\hline\n",
       "\t 1            & vip          & 3121         & CL136        &  0.15673343  & -0.02025768  & -0.153783321 & -0.164965563\\\\\n",
       "\t 7            & vip          & 3121         & CL136        & -0.12500414  & -0.05046338  &  0.040303536 & -0.268219990\\\\\n",
       "\t 1            & vip          & 3122         & CL136        &  0.31555878  &  0.18300207  & -0.032999655 & -0.467529018\\\\\n",
       "\t 7            & vip          & 3122         & CL136        & -0.16381732  & -0.36659268  & -0.318575664 & -0.044840419\\\\\n",
       "\t 1            & vip          & 3123         & CL136        &  0.12944190  &  0.07552554  & -0.012969963 & -0.006139394\\\\\n",
       "\t 7            & vip          & 3123         & CL136        &  0.04045443  &  0.03288791  &  0.007422192 & -0.064749027\\\\\n",
       "\\end{tabular}\n"
      ],
      "text/markdown": [
       "\n",
       "| day | cell_type | cell_id | mouse_id | tone | tone...delay | delay | reward |\n",
       "|---|---|---|---|---|---|---|---|\n",
       "| 1            | vip          | 3121         | CL136        |  0.15673343  | -0.02025768  | -0.153783321 | -0.164965563 |\n",
       "| 7            | vip          | 3121         | CL136        | -0.12500414  | -0.05046338  |  0.040303536 | -0.268219990 |\n",
       "| 1            | vip          | 3122         | CL136        |  0.31555878  |  0.18300207  | -0.032999655 | -0.467529018 |\n",
       "| 7            | vip          | 3122         | CL136        | -0.16381732  | -0.36659268  | -0.318575664 | -0.044840419 |\n",
       "| 1            | vip          | 3123         | CL136        |  0.12944190  |  0.07552554  | -0.012969963 | -0.006139394 |\n",
       "| 7            | vip          | 3123         | CL136        |  0.04045443  |  0.03288791  |  0.007422192 | -0.064749027 |\n",
       "\n"
      ],
      "text/plain": [
       "  day cell_type cell_id mouse_id tone        tone...delay delay       \n",
       "1 1   vip       3121    CL136     0.15673343 -0.02025768  -0.153783321\n",
       "2 7   vip       3121    CL136    -0.12500414 -0.05046338   0.040303536\n",
       "3 1   vip       3122    CL136     0.31555878  0.18300207  -0.032999655\n",
       "4 7   vip       3122    CL136    -0.16381732 -0.36659268  -0.318575664\n",
       "5 1   vip       3123    CL136     0.12944190  0.07552554  -0.012969963\n",
       "6 7   vip       3123    CL136     0.04045443  0.03288791   0.007422192\n",
       "  reward      \n",
       "1 -0.164965563\n",
       "2 -0.268219990\n",
       "3 -0.467529018\n",
       "4 -0.044840419\n",
       "5 -0.006139394\n",
       "6 -0.064749027"
      ]
     },
     "metadata": {},
     "output_type": "display_data"
    }
   ],
   "source": [
    "similarity <- read.csv('../../interneuron-reward-data/processed/ideal_projection_similarity.csv')\n",
    "\n",
    "# Convert numeric cell_id to factor\n",
    "similarity[, 'day'] <- as.factor(similarity[, 'day'])\n",
    "similarity[, 'cell_id'] <- as.factor(similarity[, 'cell_id'])\n",
    "\n",
    "# Display first few rows\n",
    "head(similarity)"
   ]
  },
  {
   "cell_type": "code",
   "execution_count": 3,
   "metadata": {},
   "outputs": [],
   "source": [
    "difference_dfs <- list()\n",
    "\n",
    "for (response_variable in c('reward', 'tone...delay')) {\n",
    "    difference <- (\n",
    "        similarity[, c('day', 'cell_id', 'cell_type', 'mouse_id', response_variable)] \n",
    "        %>% spread(day, response_variable)\n",
    "    )\n",
    "    difference[, 'tuning_change'] <- difference[,\"7\"] - difference[,\"1\"]\n",
    "    difference <- difference[, !(colnames(difference) %in% c(\"1\", \"7\"))]\n",
    "    \n",
    "    difference_dfs[[response_variable]] <- difference\n",
    "}"
   ]
  },
  {
   "cell_type": "code",
   "execution_count": 4,
   "metadata": {},
   "outputs": [
    {
     "data": {
      "text/html": [
       "<table>\n",
       "<thead><tr><th scope=col>cell_id</th><th scope=col>cell_type</th><th scope=col>mouse_id</th><th scope=col>tuning_change</th><th scope=col>trial_component</th></tr></thead>\n",
       "<tbody>\n",
       "\t<tr><td>1            </td><td>pyr          </td><td>CL174        </td><td> 0.03077134  </td><td>Reward tuning</td></tr>\n",
       "\t<tr><td>2            </td><td>pyr          </td><td>CL174        </td><td> 0.26060798  </td><td>Reward tuning</td></tr>\n",
       "\t<tr><td>3            </td><td>pyr          </td><td>CL174        </td><td>-0.41371420  </td><td>Reward tuning</td></tr>\n",
       "\t<tr><td>4            </td><td>pyr          </td><td>CL174        </td><td>-0.31064693  </td><td>Reward tuning</td></tr>\n",
       "\t<tr><td>5            </td><td>pyr          </td><td>CL174        </td><td> 0.65019971  </td><td>Reward tuning</td></tr>\n",
       "\t<tr><td>6            </td><td>pyr          </td><td>CL174        </td><td> 0.51331267  </td><td>Reward tuning</td></tr>\n",
       "</tbody>\n",
       "</table>\n"
      ],
      "text/latex": [
       "\\begin{tabular}{r|lllll}\n",
       " cell\\_id & cell\\_type & mouse\\_id & tuning\\_change & trial\\_component\\\\\n",
       "\\hline\n",
       "\t 1             & pyr           & CL174         &  0.03077134   & Reward tuning\\\\\n",
       "\t 2             & pyr           & CL174         &  0.26060798   & Reward tuning\\\\\n",
       "\t 3             & pyr           & CL174         & -0.41371420   & Reward tuning\\\\\n",
       "\t 4             & pyr           & CL174         & -0.31064693   & Reward tuning\\\\\n",
       "\t 5             & pyr           & CL174         &  0.65019971   & Reward tuning\\\\\n",
       "\t 6             & pyr           & CL174         &  0.51331267   & Reward tuning\\\\\n",
       "\\end{tabular}\n"
      ],
      "text/markdown": [
       "\n",
       "| cell_id | cell_type | mouse_id | tuning_change | trial_component |\n",
       "|---|---|---|---|---|\n",
       "| 1             | pyr           | CL174         |  0.03077134   | Reward tuning |\n",
       "| 2             | pyr           | CL174         |  0.26060798   | Reward tuning |\n",
       "| 3             | pyr           | CL174         | -0.41371420   | Reward tuning |\n",
       "| 4             | pyr           | CL174         | -0.31064693   | Reward tuning |\n",
       "| 5             | pyr           | CL174         |  0.65019971   | Reward tuning |\n",
       "| 6             | pyr           | CL174         |  0.51331267   | Reward tuning |\n",
       "\n"
      ],
      "text/plain": [
       "  cell_id cell_type mouse_id tuning_change trial_component\n",
       "1 1       pyr       CL174     0.03077134   Reward tuning  \n",
       "2 2       pyr       CL174     0.26060798   Reward tuning  \n",
       "3 3       pyr       CL174    -0.41371420   Reward tuning  \n",
       "4 4       pyr       CL174    -0.31064693   Reward tuning  \n",
       "5 5       pyr       CL174     0.65019971   Reward tuning  \n",
       "6 6       pyr       CL174     0.51331267   Reward tuning  "
      ]
     },
     "metadata": {},
     "output_type": "display_data"
    }
   ],
   "source": [
    "difference_dfs[['reward']][, 'trial_component'] <- 'Reward tuning'\n",
    "difference_dfs[['tone...delay']][, 'trial_component'] <- 'Tone tuning'\n",
    "\n",
    "difference <- rbind(difference_dfs[['reward']], difference_dfs[['tone...delay']])\n",
    "head(difference)"
   ]
  },
  {
   "cell_type": "code",
   "execution_count": 5,
   "metadata": {},
   "outputs": [
    {
     "data": {
      "text/plain": [
       "    cell_id     cell_type     mouse_id    tuning_change      trial_component   \n",
       " 1      :   2   pv : 624   CL176  : 598   Min.   :-1.19299   Length:3852       \n",
       " 2      :   2   pyr:2414   CL182  : 510   1st Qu.:-0.24631   Class :character  \n",
       " 3      :   2   vip: 814   CL174  : 422   Median :-0.01262   Mode  :character  \n",
       " 4      :   2              CL184  : 372   Mean   :-0.01067                     \n",
       " 5      :   2              CL181  : 366   3rd Qu.: 0.21912                     \n",
       " 6      :   2              CL136  : 240   Max.   : 1.33728                     \n",
       " (Other):3840              (Other):1344   NA's   :2                            "
      ]
     },
     "metadata": {},
     "output_type": "display_data"
    }
   ],
   "source": [
    "summary(difference)"
   ]
  },
  {
   "cell_type": "code",
   "execution_count": 8,
   "metadata": {},
   "outputs": [
    {
     "name": "stderr",
     "output_type": "stream",
     "text": [
      "Warning message:\n",
      "“Removed 2 rows containing non-finite values (stat_density).”Warning message:\n",
      "“Removed 2 rows containing non-finite values (stat_summary).”"
     ]
    }
   ],
   "source": [
    "per_mouse_similarity_change <- (\n",
    "    ggplot(cbind(difference, data.frame(y=rep(2.2, nrow(difference)))), aes(x=tuning_change, fill=mouse_id))\n",
    "    + facet_grid(rows=vars(cell_type), cols=vars(trial_component))\n",
    "    + geom_vline(xintercept=0)\n",
    "    + geom_density(alpha=0.3)\n",
    "    + stat_summary(\n",
    "        aes(y=y, color=mouse_id), \n",
    "        fun=median, fun.min=median, fun.max=median, \n",
    "        geom='point', position='jitter', size=3,\n",
    "        orientation='y'\n",
    "    )\n",
    "    + labs(y='Density', x='Change from day 1 to day 7')\n",
    ")\n",
    "\n",
    "ggsave(file='../img/graphics/per_mouse_similarity_change.svg', plot=per_mouse_similarity_change, width=6, height=6)"
   ]
  },
  {
   "cell_type": "code",
   "execution_count": 7,
   "metadata": {},
   "outputs": [],
   "source": [
    "difference_stats <- list()\n",
    "num_mice <- length(unique(difference[, 'mouse_id']))\n",
    "\n",
    "for (trial_component in unique(difference[, 'trial_component'])) {\n",
    "    # Allocate data frame for storing p-values\n",
    "    difference_stats[[trial_component]] <- data.frame(\n",
    "        mouse_id=unique(difference[, 'mouse_id']), \n",
    "        cell_type=factor(character(num_mice), levels=levels(difference[, 'cell_type'])), \n",
    "        greater_p_value=numeric(num_mice),\n",
    "        less_p_value=numeric(num_mice)\n",
    "    )\n",
    "\n",
    "    for (mouse_id in unique(difference[, 'mouse_id'])) {\n",
    "        # Compute masks for selecting data\n",
    "        this_row_mask <- (difference_stats[[trial_component]][, 'mouse_id'] == mouse_id)\n",
    "        diff_row_mask <- (\n",
    "            (difference[, 'mouse_id'] == mouse_id) \n",
    "            & (difference[, 'trial_component'] == trial_component)\n",
    "        )\n",
    "        \n",
    "        # Store cell type\n",
    "        difference_stats[[trial_component]][this_row_mask, 'cell_type'] <- difference[\n",
    "            diff_row_mask, 'cell_type'\n",
    "        ][1]\n",
    "        \n",
    "        # Compute p-values for positive or negative tuning change\n",
    "        difference_stats[[trial_component]][this_row_mask, 'greater_p_value'] <- wilcox.test(\n",
    "            difference[diff_row_mask, 'tuning_change'], \n",
    "            alternative='greater'\n",
    "        )$p.value\n",
    "        difference_stats[[trial_component]][this_row_mask, 'less_p_value'] <- wilcox.test(\n",
    "            difference[diff_row_mask, 'tuning_change'], \n",
    "            alternative='less'\n",
    "        )$p.value\n",
    "    }\n",
    "    \n",
    "    difference_stats[[trial_component]][, 'trial_component'] <- trial_component\n",
    "}\n",
    "\n",
    "difference_stats <- rbind(difference_stats[['Reward tuning']], difference_stats[['Tone tuning']])"
   ]
  },
  {
   "cell_type": "code",
   "execution_count": 8,
   "metadata": {},
   "outputs": [
    {
     "data": {
      "text/html": [
       "FALSE"
      ],
      "text/latex": [
       "FALSE"
      ],
      "text/markdown": [
       "FALSE"
      ],
      "text/plain": [
       "[1] FALSE"
      ]
     },
     "metadata": {},
     "output_type": "display_data"
    }
   ],
   "source": [
    "difference_stats[, 'greater_significance'] <- difference_stats[, 'greater_p_value'] < 0.05\n",
    "difference_stats[, 'less_significance'] <- difference_stats[, 'less_p_value'] < 0.05\n",
    "\n",
    "any(difference_stats[, 'greater_significance'] & difference_stats[, 'less_significance'])"
   ]
  },
  {
   "cell_type": "markdown",
   "metadata": {},
   "source": [
    "If the above outputs `FALSE`, there are no mice that exhibit *both* a significant increase and decrease in tuning. This is a sanity check and `FALSE` is the expected result."
   ]
  },
  {
   "cell_type": "code",
   "execution_count": 9,
   "metadata": {},
   "outputs": [
    {
     "data": {
      "text/html": [
       "<table>\n",
       "<thead><tr><th scope=col>cell_type</th><th scope=col>trial_component</th><th scope=col>num_mice</th><th scope=col>num_greater_signif</th><th scope=col>num_less_signif</th></tr></thead>\n",
       "<tbody>\n",
       "\t<tr><td>pv           </td><td>Reward tuning</td><td>6            </td><td>3            </td><td>3            </td></tr>\n",
       "\t<tr><td>pv           </td><td>Tone tuning  </td><td>6            </td><td>1            </td><td>3            </td></tr>\n",
       "\t<tr><td>pyr          </td><td>Reward tuning</td><td>6            </td><td>1            </td><td>4            </td></tr>\n",
       "\t<tr><td>pyr          </td><td>Tone tuning  </td><td>6            </td><td>3            </td><td>1            </td></tr>\n",
       "\t<tr><td>vip          </td><td>Reward tuning</td><td>4            </td><td>3            </td><td>1            </td></tr>\n",
       "\t<tr><td>vip          </td><td>Tone tuning  </td><td>4            </td><td>1            </td><td>3            </td></tr>\n",
       "</tbody>\n",
       "</table>\n"
      ],
      "text/latex": [
       "\\begin{tabular}{r|lllll}\n",
       " cell\\_type & trial\\_component & num\\_mice & num\\_greater\\_signif & num\\_less\\_signif\\\\\n",
       "\\hline\n",
       "\t pv            & Reward tuning & 6             & 3             & 3            \\\\\n",
       "\t pv            & Tone tuning   & 6             & 1             & 3            \\\\\n",
       "\t pyr           & Reward tuning & 6             & 1             & 4            \\\\\n",
       "\t pyr           & Tone tuning   & 6             & 3             & 1            \\\\\n",
       "\t vip           & Reward tuning & 4             & 3             & 1            \\\\\n",
       "\t vip           & Tone tuning   & 4             & 1             & 3            \\\\\n",
       "\\end{tabular}\n"
      ],
      "text/markdown": [
       "\n",
       "| cell_type | trial_component | num_mice | num_greater_signif | num_less_signif |\n",
       "|---|---|---|---|---|\n",
       "| pv            | Reward tuning | 6             | 3             | 3             |\n",
       "| pv            | Tone tuning   | 6             | 1             | 3             |\n",
       "| pyr           | Reward tuning | 6             | 1             | 4             |\n",
       "| pyr           | Tone tuning   | 6             | 3             | 1             |\n",
       "| vip           | Reward tuning | 4             | 3             | 1             |\n",
       "| vip           | Tone tuning   | 4             | 1             | 3             |\n",
       "\n"
      ],
      "text/plain": [
       "  cell_type trial_component num_mice num_greater_signif num_less_signif\n",
       "1 pv        Reward tuning   6        3                  3              \n",
       "2 pv        Tone tuning     6        1                  3              \n",
       "3 pyr       Reward tuning   6        1                  4              \n",
       "4 pyr       Tone tuning     6        3                  1              \n",
       "5 vip       Reward tuning   4        3                  1              \n",
       "6 vip       Tone tuning     4        1                  3              "
      ]
     },
     "metadata": {},
     "output_type": "display_data"
    }
   ],
   "source": [
    "signif_counts <- merge(\n",
    "    merge(\n",
    "        aggregate(\n",
    "            rep(1, nrow(difference_stats)), \n",
    "            by=list(difference_stats$cell_type, difference_stats$trial_component), \n",
    "            FUN=sum\n",
    "        ) %>% rename(num_mice=x, cell_type=Group.1, trial_component=Group.2),\n",
    "        aggregate(\n",
    "            difference_stats$greater_significance, \n",
    "            by=list(difference_stats$cell_type, difference_stats$trial_component), \n",
    "            FUN=sum\n",
    "        ) %>% rename(num_greater_signif=x, cell_type=Group.1, trial_component=Group.2)\n",
    "    ),\n",
    "    aggregate(\n",
    "        difference_stats$less_significance, \n",
    "        by=list(difference_stats$cell_type, difference_stats$trial_component), \n",
    "        FUN=sum\n",
    "    ) %>% rename(num_less_signif=x, cell_type=Group.1, trial_component=Group.2)\n",
    ")\n",
    "\n",
    "signif_counts"
   ]
  },
  {
   "cell_type": "code",
   "execution_count": 10,
   "metadata": {},
   "outputs": [],
   "source": [
    "omnibus_test <- function(num_significant_p_values, num_tests, alpha_level) {\n",
    "    if (num_significant_p_values == 0) {\n",
    "        return(1.0)\n",
    "    } else {\n",
    "        return(\n",
    "            pbinom(num_significant_p_values - 1, num_tests, alpha_level, lower.tail=FALSE)\n",
    "        )\n",
    "    }\n",
    "}"
   ]
  },
  {
   "cell_type": "code",
   "execution_count": 11,
   "metadata": {},
   "outputs": [
    {
     "data": {
      "text/html": [
       "<table>\n",
       "<thead><tr><th scope=col>cell_type</th><th scope=col>trial_component</th><th scope=col>num_mice</th><th scope=col>num_greater_signif</th><th scope=col>num_less_signif</th><th scope=col>greater_signif_p</th><th scope=col>greater_signif_flag_bonferroni</th><th scope=col>less_signif_p</th><th scope=col>less_signif_flag_bonferroni</th></tr></thead>\n",
       "<tbody>\n",
       "\t<tr><td>pv           </td><td>Reward tuning</td><td>6            </td><td>3            </td><td>3            </td><td>0.002229844  </td><td> TRUE        </td><td>2.229844e-03 </td><td> TRUE        </td></tr>\n",
       "\t<tr><td>pv           </td><td>Tone tuning  </td><td>6            </td><td>1            </td><td>3            </td><td>0.264908109  </td><td>FALSE        </td><td>2.229844e-03 </td><td> TRUE        </td></tr>\n",
       "\t<tr><td>pyr          </td><td>Reward tuning</td><td>6            </td><td>1            </td><td>4            </td><td>0.264908109  </td><td>FALSE        </td><td>8.640625e-05 </td><td> TRUE        </td></tr>\n",
       "\t<tr><td>pyr          </td><td>Tone tuning  </td><td>6            </td><td>3            </td><td>1            </td><td>0.002229844  </td><td> TRUE        </td><td>2.649081e-01 </td><td>FALSE        </td></tr>\n",
       "\t<tr><td>vip          </td><td>Reward tuning</td><td>4            </td><td>3            </td><td>1            </td><td>0.000481250  </td><td> TRUE        </td><td>1.854938e-01 </td><td>FALSE        </td></tr>\n",
       "\t<tr><td>vip          </td><td>Tone tuning  </td><td>4            </td><td>1            </td><td>3            </td><td>0.185493750  </td><td>FALSE        </td><td>4.812500e-04 </td><td> TRUE        </td></tr>\n",
       "</tbody>\n",
       "</table>\n"
      ],
      "text/latex": [
       "\\begin{tabular}{r|lllllllll}\n",
       " cell\\_type & trial\\_component & num\\_mice & num\\_greater\\_signif & num\\_less\\_signif & greater\\_signif\\_p & greater\\_signif\\_flag\\_bonferroni & less\\_signif\\_p & less\\_signif\\_flag\\_bonferroni\\\\\n",
       "\\hline\n",
       "\t pv            & Reward tuning & 6             & 3             & 3             & 0.002229844   &  TRUE         & 2.229844e-03  &  TRUE        \\\\\n",
       "\t pv            & Tone tuning   & 6             & 1             & 3             & 0.264908109   & FALSE         & 2.229844e-03  &  TRUE        \\\\\n",
       "\t pyr           & Reward tuning & 6             & 1             & 4             & 0.264908109   & FALSE         & 8.640625e-05  &  TRUE        \\\\\n",
       "\t pyr           & Tone tuning   & 6             & 3             & 1             & 0.002229844   &  TRUE         & 2.649081e-01  & FALSE        \\\\\n",
       "\t vip           & Reward tuning & 4             & 3             & 1             & 0.000481250   &  TRUE         & 1.854938e-01  & FALSE        \\\\\n",
       "\t vip           & Tone tuning   & 4             & 1             & 3             & 0.185493750   & FALSE         & 4.812500e-04  &  TRUE        \\\\\n",
       "\\end{tabular}\n"
      ],
      "text/markdown": [
       "\n",
       "| cell_type | trial_component | num_mice | num_greater_signif | num_less_signif | greater_signif_p | greater_signif_flag_bonferroni | less_signif_p | less_signif_flag_bonferroni |\n",
       "|---|---|---|---|---|---|---|---|---|\n",
       "| pv            | Reward tuning | 6             | 3             | 3             | 0.002229844   |  TRUE         | 2.229844e-03  |  TRUE         |\n",
       "| pv            | Tone tuning   | 6             | 1             | 3             | 0.264908109   | FALSE         | 2.229844e-03  |  TRUE         |\n",
       "| pyr           | Reward tuning | 6             | 1             | 4             | 0.264908109   | FALSE         | 8.640625e-05  |  TRUE         |\n",
       "| pyr           | Tone tuning   | 6             | 3             | 1             | 0.002229844   |  TRUE         | 2.649081e-01  | FALSE         |\n",
       "| vip           | Reward tuning | 4             | 3             | 1             | 0.000481250   |  TRUE         | 1.854938e-01  | FALSE         |\n",
       "| vip           | Tone tuning   | 4             | 1             | 3             | 0.185493750   | FALSE         | 4.812500e-04  |  TRUE         |\n",
       "\n"
      ],
      "text/plain": [
       "  cell_type trial_component num_mice num_greater_signif num_less_signif\n",
       "1 pv        Reward tuning   6        3                  3              \n",
       "2 pv        Tone tuning     6        1                  3              \n",
       "3 pyr       Reward tuning   6        1                  4              \n",
       "4 pyr       Tone tuning     6        3                  1              \n",
       "5 vip       Reward tuning   4        3                  1              \n",
       "6 vip       Tone tuning     4        1                  3              \n",
       "  greater_signif_p greater_signif_flag_bonferroni less_signif_p\n",
       "1 0.002229844       TRUE                          2.229844e-03 \n",
       "2 0.264908109      FALSE                          2.229844e-03 \n",
       "3 0.264908109      FALSE                          8.640625e-05 \n",
       "4 0.002229844       TRUE                          2.649081e-01 \n",
       "5 0.000481250       TRUE                          1.854938e-01 \n",
       "6 0.185493750      FALSE                          4.812500e-04 \n",
       "  less_signif_flag_bonferroni\n",
       "1  TRUE                      \n",
       "2  TRUE                      \n",
       "3  TRUE                      \n",
       "4 FALSE                      \n",
       "5 FALSE                      \n",
       "6  TRUE                      "
      ]
     },
     "metadata": {},
     "output_type": "display_data"
    }
   ],
   "source": [
    "signif_counts[, 'greater_signif_p'] <- apply(\n",
    "    signif_counts, 1, \n",
    "    function(row) omnibus_test(as.numeric(row['num_greater_signif']), as.numeric(row['num_mice']), 0.05)\n",
    ")\n",
    "signif_counts[, 'greater_signif_flag_bonferroni'] <- signif_counts[, 'greater_signif_p'] < (0.05 / 12)\n",
    "\n",
    "signif_counts[, 'less_signif_p'] <- apply(\n",
    "    signif_counts, 1, \n",
    "    function(row) omnibus_test(as.numeric(row['num_less_signif']), as.numeric(row['num_mice']), 0.05)\n",
    ")\n",
    "signif_counts[, 'less_signif_flag_bonferroni'] <- signif_counts[, 'less_signif_p'] < (0.05 / 12)\n",
    "\n",
    "signif_counts"
   ]
  },
  {
   "cell_type": "markdown",
   "metadata": {},
   "source": [
    "After Bonferroni correction for 12 comparisons, we find the following:\n",
    "- PV \n",
    "    - become activated or inhibited by reward, depending on the mouse\n",
    "    - become inhibited by tone in at least some mice\n",
    "- PYR\n",
    "    - become inhibited by reward in at least some mice\n",
    "    - become activated by tone in at least some mice\n",
    "- VIP\n",
    "    - become activated by reward in at least some mice\n",
    "    - become inhibited by tone in at least some mice"
   ]
  },
  {
   "cell_type": "code",
   "execution_count": 12,
   "metadata": {},
   "outputs": [
    {
     "data": {
      "text/html": [
       "<table>\n",
       "<thead><tr><th scope=col>Group.1</th><th scope=col>Group.2</th><th scope=col>x</th></tr></thead>\n",
       "<tbody>\n",
       "\t<tr><td>pv           </td><td>Reward tuning</td><td>0.84375      </td></tr>\n",
       "\t<tr><td>pyr          </td><td>Reward tuning</td><td>0.15625      </td></tr>\n",
       "\t<tr><td>vip          </td><td>Reward tuning</td><td>0.37500      </td></tr>\n",
       "\t<tr><td>pv           </td><td>Tone tuning  </td><td>0.56250      </td></tr>\n",
       "\t<tr><td>pyr          </td><td>Tone tuning  </td><td>0.43750      </td></tr>\n",
       "\t<tr><td>vip          </td><td>Tone tuning  </td><td>0.37500      </td></tr>\n",
       "</tbody>\n",
       "</table>\n"
      ],
      "text/latex": [
       "\\begin{tabular}{r|lll}\n",
       " Group.1 & Group.2 & x\\\\\n",
       "\\hline\n",
       "\t pv            & Reward tuning & 0.84375      \\\\\n",
       "\t pyr           & Reward tuning & 0.15625      \\\\\n",
       "\t vip           & Reward tuning & 0.37500      \\\\\n",
       "\t pv            & Tone tuning   & 0.56250      \\\\\n",
       "\t pyr           & Tone tuning   & 0.43750      \\\\\n",
       "\t vip           & Tone tuning   & 0.37500      \\\\\n",
       "\\end{tabular}\n"
      ],
      "text/markdown": [
       "\n",
       "| Group.1 | Group.2 | x |\n",
       "|---|---|---|\n",
       "| pv            | Reward tuning | 0.84375       |\n",
       "| pyr           | Reward tuning | 0.15625       |\n",
       "| vip           | Reward tuning | 0.37500       |\n",
       "| pv            | Tone tuning   | 0.56250       |\n",
       "| pyr           | Tone tuning   | 0.43750       |\n",
       "| vip           | Tone tuning   | 0.37500       |\n",
       "\n"
      ],
      "text/plain": [
       "  Group.1 Group.2       x      \n",
       "1 pv      Reward tuning 0.84375\n",
       "2 pyr     Reward tuning 0.15625\n",
       "3 vip     Reward tuning 0.37500\n",
       "4 pv      Tone tuning   0.56250\n",
       "5 pyr     Tone tuning   0.43750\n",
       "6 vip     Tone tuning   0.37500"
      ]
     },
     "metadata": {},
     "output_type": "display_data"
    }
   ],
   "source": [
    "median_differences <- aggregate(\n",
    "    difference$tuning_change, \n",
    "    by=list(difference$cell_type, difference$mouse_id, difference$trial_component),\n",
    "    FUN=function(x) median(x, na.rm=TRUE)\n",
    ") %>% rename(cell_type=Group.1, mouse_id=Group.2, trial_component=Group.3, tuning_change=x)\n",
    "\n",
    "aggregate(\n",
    "    median_differences$tuning_change,\n",
    "    by=list(median_differences$cell_type, median_differences$trial_component),\n",
    "    FUN=function(x) wilcox.test(x, alternative='two.sided')$p.value\n",
    ")"
   ]
  },
  {
   "cell_type": "code",
   "execution_count": 13,
   "metadata": {},
   "outputs": [
    {
     "data": {
      "image/png": "[encoded data removed]",
      "text/plain": [
       "plot without title"
      ]
     },
     "metadata": {},
     "output_type": "display_data"
    }
   ],
   "source": [
    "ggplot(median_differences, aes(x=cell_type, y=tuning_change)) +\n",
    "    facet_grid(cols=vars(trial_component)) +\n",
    "    geom_boxplot()"
   ]
  },
  {
   "cell_type": "code",
   "execution_count": null,
   "metadata": {},
   "outputs": [],
   "source": []
  }
 ],
 "metadata": {
  "kernelspec": {
   "display_name": "R",
   "language": "R",
   "name": "ir"
  },
  "language_info": {
   "codemirror_mode": "r",
   "file_extension": ".r",
   "mimetype": "text/x-r-source",
   "name": "R",
   "pygments_lexer": "r",
   "version": "3.6.1"
  }
 },
 "nbformat": 4,
 "nbformat_minor": 4
}
