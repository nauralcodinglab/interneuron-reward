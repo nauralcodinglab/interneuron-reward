{
 "cells": [
  {
   "cell_type": "code",
   "execution_count": 1,
   "metadata": {},
   "outputs": [],
   "source": [
    "import warnings\n",
    "import itertools\n",
    "\n",
    "import pandas as pd\n",
    "import numpy as np\n",
    "import matplotlib.pyplot as plt\n",
    "import seaborn as sns"
   ]
  },
  {
   "cell_type": "code",
   "execution_count": 2,
   "metadata": {},
   "outputs": [],
   "source": [
    "obs_df = pd.read_csv('../../interneuron-reward-data/processed/mean_fluo_df.csv')\n",
    "\n",
    "bootstrap_dfs = {\n",
    "    ct: pd.read_csv(f'../../interneuron-reward-data/processed/{ct}_corr_bootstrap.csv')\n",
    "    for ct in ('pyr', 'vip', 'pv')\n",
    "}"
   ]
  },
  {
   "cell_type": "code",
   "execution_count": 4,
   "metadata": {},
   "outputs": [],
   "source": [
    "def get_change(obs_df, cell_type: str) -> pd.DataFrame:\n",
    "    d1 = obs_df.query('(day == 1) and (cell_type == @cell_type)').set_index('cell_id')\n",
    "    d7 = obs_df.query('(day == 7) and (cell_type == @cell_type)').set_index('cell_id')\n",
    "    if not np.all(d1.index.to_numpy() == d7.index.to_numpy()):\n",
    "        warnings.warn('Index not completely matching.')\n",
    "    change = d1.copy()\n",
    "    change['reward'] = d7['reward'] - d1['reward']\n",
    "    change['tone + delay'] = d7['tone + delay'] - d1['tone + delay']\n",
    "    return change"
   ]
  },
  {
   "cell_type": "code",
   "execution_count": 6,
   "metadata": {},
   "outputs": [
    {
     "name": "stdout",
     "output_type": "stream",
     "text": [
      "pyr tone + delay: 0.082 (range -0.024 to 0.226)\n",
      "vip tone + delay: -0.065 (range -0.199 to 0.071)\n",
      "pv tone + delay: -0.049 (range -0.216 to 0.144)\n",
      "pyr reward: -0.141 (range -0.381 to 0.145)\n",
      "vip reward: 0.161 (range -0.090 to 0.361)\n",
      "pv reward: 0.014 (range -0.201 to 0.160)\n"
     ]
    },
    {
     "name": "stderr",
     "output_type": "stream",
     "text": [
      "<ipython-input-4-5eebf9752fee>:4: DeprecationWarning: elementwise comparison failed; this will raise an error in the future.\n",
      "  if not np.all(d1.index.to_numpy() == d7.index.to_numpy()):\n",
      "<ipython-input-4-5eebf9752fee>:5: UserWarning: Index not completely matching.\n",
      "  warnings.warn('Index not completely matching.')\n"
     ]
    }
   ],
   "source": [
    "for tr_component, ct in itertools.product(['tone + delay', 'reward'], ['pyr', 'vip', 'pv']):\n",
    "    changes_by_mouse = get_change(obs_df, ct).groupby('mouse_id').mean()[tr_component]\n",
    "    print(f'{ct} {tr_component}: {changes_by_mouse.mean():.3f} (range {changes_by_mouse.min():.3f} to {changes_by_mouse.max():.3f})')"
   ]
  },
  {
   "cell_type": "code",
   "execution_count": 4,
   "metadata": {},
   "outputs": [],
   "source": [
    "def vertical_rects(x, y_min, y_max, width=0.5, **pltargs):\n",
    "    label = pltargs.pop('label', None)\n",
    "    for i, (x_i, ymin_i, ymax_i) in enumerate(zip(x, y_min, y_max)):\n",
    "        fill = plt.fill_between(\n",
    "            [x_i - width/2., x_i + width/2.], [ymin_i, ymin_i], [ymax_i, ymax_i], \n",
    "            **pltargs\n",
    "        )\n",
    "        if (i == 0) and (label is not None):\n",
    "            fill.set_label(label)"
   ]
  },
  {
   "cell_type": "code",
   "execution_count": 5,
   "metadata": {},
   "outputs": [],
   "source": [
    "stat_thresholds = {\n",
    "    0.05: '*',\n",
    "    0.01: '**',\n",
    "}"
   ]
  },
  {
   "cell_type": "code",
   "execution_count": 6,
   "metadata": {},
   "outputs": [
    {
     "name": "stderr",
     "output_type": "stream",
     "text": [
      "<ipython-input-3-5eebf9752fee>:4: DeprecationWarning: elementwise comparison failed; this will raise an error in the future.\n",
      "  if not np.all(d1.index.to_numpy() == d7.index.to_numpy()):\n",
      "<ipython-input-3-5eebf9752fee>:5: UserWarning: Index not completely matching.\n",
      "  warnings.warn('Index not completely matching.')\n"
     ]
    },
    {
     "data": {
      "image/png": "[encoded data removed]",
      "text/plain": [
       "<Figure size 216x144 with 1 Axes>"
      ]
     },
     "metadata": {
      "needs_background": "light"
     },
     "output_type": "display_data"
    }
   ],
   "source": [
    "# Plot null distributions as violins\n",
    "null_arr = np.array([\n",
    "    bootstrap_dfs[ct].query('(trial_component == @tr_component) and (day == \"delta\")')['spearman']\n",
    "    for tr_component, ct in itertools.product(['tone + delay', 'reward'], ['pyr', 'vip', 'pv'])\n",
    "]).T\n",
    "x_positions = [-0.5, 0, 0.5, 1.5, 2, 2.5]\n",
    "\n",
    "plt.figure(figsize=(3, 2))\n",
    "plt.subplot(111)\n",
    "violins = plt.violinplot(null_arr, x_positions, showextrema=False)\n",
    "\n",
    "for i, violin in enumerate(violins['bodies']):\n",
    "    violin.set_edgecolor((0.7,) * 3)\n",
    "    violin.set_facecolor((0.9,) * 3)\n",
    "    violin.set_alpha(1)\n",
    "    if i == 0:\n",
    "        violin.set_label('Null distribution\\n(1000 samples)')\n",
    "\n",
    "# Plot observed values\n",
    "y_obs = [\n",
    "    get_change(obs_df, ct).groupby('mouse_id').mean()[tr_component].mean()\n",
    "    for tr_component, ct in itertools.product(['tone + delay', 'reward'], ['pyr', 'vip', 'pv'])\n",
    "]\n",
    "labels = ['PN', 'VIP', 'PV']\n",
    "shapes = ['^', 'o', 's']\n",
    "for i, (x_pos, y) in enumerate(zip(x_positions, y_obs)):\n",
    "    pt = plt.plot(x_pos, y, shapes[i%3], color=sns.color_palette()[i%3+1], markersize=15, markeredgecolor='w', mew=1.5)\n",
    "    if i < 3:\n",
    "        pt[0].set_label(labels[i])\n",
    "\n",
    "# Add statistical annotations\n",
    "for i, x_pos in enumerate(x_positions):\n",
    "    for stat_thresh in [0.01, 0.05]:\n",
    "        if (y_obs[i] < np.percentile(null_arr[:, i], 100 * stat_thresh/2.)\n",
    "           ) or (y_obs[i] > np.percentile(null_arr[:, i], 100 * (1-stat_thresh/2.))):\n",
    "            plt.annotate(\n",
    "                stat_thresholds[stat_thresh], \n",
    "                (x_pos, max(0.15, y_obs[i] + 0.02)), \n",
    "                ha='center'\n",
    "            )\n",
    "            break\n",
    "\n",
    "plt.legend(bbox_to_anchor=(1, 1), loc='upper left')\n",
    "\n",
    "plt.xticks([0, 2], ['Tone', 'Reward'])\n",
    "plt.ylim(-0.22, 0.22)\n",
    "plt.ylabel('Mean change\\nfrom day 1 to 7\\n(Spearman $\\\\rho$)')\n",
    "\n",
    "plt.savefig(f'../img/bootstrap/all_celltypes_change_corr.png', dpi=600, bbox_inches='tight')\n",
    "plt.savefig(f'../img/bootstrap/all_celltypes_change_corr.svg', bbox_inches='tight')\n",
    "\n",
    "plt.show()"
   ]
  },
  {
   "cell_type": "code",
   "execution_count": null,
   "metadata": {},
   "outputs": [],
   "source": []
  }
 ],
 "metadata": {
  "kernelspec": {
   "display_name": "Python 3",
   "language": "python",
   "name": "python3"
  },
  "language_info": {
   "codemirror_mode": {
    "name": "ipython",
    "version": 3
   },
   "file_extension": ".py",
   "mimetype": "text/x-python",
   "name": "python",
   "nbconvert_exporter": "python",
   "pygments_lexer": "ipython3",
   "version": "3.8.3"
  }
 },
 "nbformat": 4,
 "nbformat_minor": 4
}
