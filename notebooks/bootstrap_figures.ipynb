{
 "cells": [
  {
   "cell_type": "markdown",
   "metadata": {},
   "source": [
    "# Import dependencies\n",
    "\n",
    "`warnings` and `itertools` are built-in, the others will have to be installed with `conda` (Anaconda) or `pip`."
   ]
  },
  {
   "cell_type": "code",
   "execution_count": 1,
   "metadata": {},
   "outputs": [],
   "source": [
    "import warnings\n",
    "import itertools\n",
    "\n",
    "import pandas as pd\n",
    "import numpy as np\n",
    "import matplotlib.pyplot as plt\n",
    "import seaborn as sns  # Optional."
   ]
  },
  {
   "cell_type": "markdown",
   "metadata": {},
   "source": [
    "The `seaborn` dependency is just for giving the points in the graph a nice colour. It can be omitted if you want to set the colour manually. Just make sure to remove the call to `sns.color_palette()` in the cell at the bottom."
   ]
  },
  {
   "cell_type": "markdown",
   "metadata": {},
   "source": [
    "# Load data files\n",
    "\n",
    "Load data files into two variables:\n",
    "- `obs_df` containing the observed values (which will need to be averaged)\n",
    "- `bootstrap_dfs` containing samples from the corresponding null distributions\n",
    "\n",
    "(The `df` suffix is my shorthand for indicating that a variable is a table; a `DataFrame` in Python- or R-speak.)\n",
    "\n",
    "If your data is stored in an Excel spreadsheet, you can replace `pd.read_csv` with `pd.read_excel` (documentation [here](https://pandas.pydata.org/docs/reference/api/pandas.read_excel.html))."
   ]
  },
  {
   "cell_type": "code",
   "execution_count": 2,
   "metadata": {},
   "outputs": [],
   "source": [
    "obs_df = pd.read_csv('../../interneuron-reward-data/processed/mean_fluo_df.csv')\n",
    "\n",
    "bootstrap_dfs = {\n",
    "    ct: pd.read_csv(f'../../interneuron-reward-data/processed/{ct}_corr_bootstrap.csv')\n",
    "    for ct in ('pyr', 'vip', 'pv', 'som')\n",
    "}"
   ]
  },
  {
   "cell_type": "markdown",
   "metadata": {},
   "source": [
    "The cell below shows the format of the `obs_df` table. The values that will be plotted are in the `tone`, `tone + delay`, and `reward` columns."
   ]
  },
  {
   "cell_type": "code",
   "execution_count": 3,
   "metadata": {},
   "outputs": [
    {
     "data": {
      "text/html": [
       "<div>\n",
       "<style scoped>\n",
       "    .dataframe tbody tr th:only-of-type {\n",
       "        vertical-align: middle;\n",
       "    }\n",
       "\n",
       "    .dataframe tbody tr th {\n",
       "        vertical-align: top;\n",
       "    }\n",
       "\n",
       "    .dataframe thead th {\n",
       "        text-align: right;\n",
       "    }\n",
       "</style>\n",
       "<table border=\"1\" class=\"dataframe\">\n",
       "  <thead>\n",
       "    <tr style=\"text-align: right;\">\n",
       "      <th></th>\n",
       "      <th>day</th>\n",
       "      <th>cell_type</th>\n",
       "      <th>cell_id</th>\n",
       "      <th>mouse_id</th>\n",
       "      <th>tone fluo</th>\n",
       "      <th>tone + delay fluo</th>\n",
       "      <th>reward fluo</th>\n",
       "      <th>tone</th>\n",
       "      <th>tone + delay</th>\n",
       "      <th>reward</th>\n",
       "    </tr>\n",
       "  </thead>\n",
       "  <tbody>\n",
       "    <tr>\n",
       "      <th>0</th>\n",
       "      <td>1</td>\n",
       "      <td>vip</td>\n",
       "      <td>3121</td>\n",
       "      <td>CL136</td>\n",
       "      <td>0.006833</td>\n",
       "      <td>-0.006349</td>\n",
       "      <td>-0.015298</td>\n",
       "      <td>-0.042650</td>\n",
       "      <td>-0.089601</td>\n",
       "      <td>-0.110405</td>\n",
       "    </tr>\n",
       "    <tr>\n",
       "      <th>1</th>\n",
       "      <td>7</td>\n",
       "      <td>vip</td>\n",
       "      <td>3121</td>\n",
       "      <td>CL136</td>\n",
       "      <td>0.056056</td>\n",
       "      <td>0.292485</td>\n",
       "      <td>0.064681</td>\n",
       "      <td>-0.205642</td>\n",
       "      <td>-0.022913</td>\n",
       "      <td>-0.320235</td>\n",
       "    </tr>\n",
       "    <tr>\n",
       "      <th>2</th>\n",
       "      <td>1</td>\n",
       "      <td>vip</td>\n",
       "      <td>3122</td>\n",
       "      <td>CL136</td>\n",
       "      <td>0.078297</td>\n",
       "      <td>0.026572</td>\n",
       "      <td>-0.122830</td>\n",
       "      <td>0.110171</td>\n",
       "      <td>0.048225</td>\n",
       "      <td>-0.311567</td>\n",
       "    </tr>\n",
       "    <tr>\n",
       "      <th>3</th>\n",
       "      <td>7</td>\n",
       "      <td>vip</td>\n",
       "      <td>3122</td>\n",
       "      <td>CL136</td>\n",
       "      <td>-0.027618</td>\n",
       "      <td>-0.061786</td>\n",
       "      <td>0.218032</td>\n",
       "      <td>-0.240343</td>\n",
       "      <td>-0.429629</td>\n",
       "      <td>-0.054292</td>\n",
       "    </tr>\n",
       "    <tr>\n",
       "      <th>4</th>\n",
       "      <td>1</td>\n",
       "      <td>vip</td>\n",
       "      <td>3123</td>\n",
       "      <td>CL136</td>\n",
       "      <td>-0.002098</td>\n",
       "      <td>0.013350</td>\n",
       "      <td>0.032032</td>\n",
       "      <td>-0.062735</td>\n",
       "      <td>-0.045220</td>\n",
       "      <td>-0.022335</td>\n",
       "    </tr>\n",
       "  </tbody>\n",
       "</table>\n",
       "</div>"
      ],
      "text/plain": [
       "   day cell_type  cell_id mouse_id  tone fluo  tone + delay fluo  reward fluo  \\\n",
       "0    1       vip     3121    CL136   0.006833          -0.006349    -0.015298   \n",
       "1    7       vip     3121    CL136   0.056056           0.292485     0.064681   \n",
       "2    1       vip     3122    CL136   0.078297           0.026572    -0.122830   \n",
       "3    7       vip     3122    CL136  -0.027618          -0.061786     0.218032   \n",
       "4    1       vip     3123    CL136  -0.002098           0.013350     0.032032   \n",
       "\n",
       "       tone  tone + delay    reward  \n",
       "0 -0.042650     -0.089601 -0.110405  \n",
       "1 -0.205642     -0.022913 -0.320235  \n",
       "2  0.110171      0.048225 -0.311567  \n",
       "3 -0.240343     -0.429629 -0.054292  \n",
       "4 -0.062735     -0.045220 -0.022335  "
      ]
     },
     "execution_count": 3,
     "metadata": {},
     "output_type": "execute_result"
    }
   ],
   "source": [
    "obs_df.head()"
   ]
  },
  {
   "cell_type": "markdown",
   "metadata": {},
   "source": [
    "# Compute descriptive statistics"
   ]
  },
  {
   "cell_type": "code",
   "execution_count": 4,
   "metadata": {},
   "outputs": [],
   "source": [
    "def get_change(obs_df, cell_type: str) -> pd.DataFrame:\n",
    "    \"\"\"Get a DataFrame containing the change in relevant measurements from day 1 to day 7.\"\"\"\n",
    "    d1 = obs_df.query('(day == 1) and (cell_type == @cell_type)').set_index('cell_id')\n",
    "    d7 = obs_df.query('(day == 7) and (cell_type == @cell_type)').set_index('cell_id')\n",
    "    \n",
    "    # Check that the same cells are in both d1 and d7 (since index was set to `cell_id`).\n",
    "    # If these don't match, d7['x'] - d1['x'] will introduce NaNs.\n",
    "    if not np.all(d1.index.to_numpy() == d7.index.to_numpy()):\n",
    "        warnings.warn('Index not completely matching.')\n",
    "    change = d1.copy()\n",
    "    change['reward'] = d7['reward'] - d1['reward']\n",
    "    change['tone + delay'] = d7['tone + delay'] - d1['tone + delay']\n",
    "    return change\n",
    "\n",
    "\n",
    "def sem(values: 'list of numbers') -> float:\n",
    "    \"\"\"Compute the standard error on the mean of a list of numbers.\"\"\"\n",
    "    values = np.asarray(values)\n",
    "    if values.ndim > 1:\n",
    "        warnings.warn('Expected argument values to be a vector, array will be flattened before use')\n",
    "    return values.std() / np.sqrt(values.size)"
   ]
  },
  {
   "cell_type": "markdown",
   "metadata": {},
   "source": [
    "Print some simple statistics about the change in whatever metric will be plotted for reporting in the main text."
   ]
  },
  {
   "cell_type": "code",
   "execution_count": 5,
   "metadata": {},
   "outputs": [
    {
     "name": "stdout",
     "output_type": "stream",
     "text": [
      "pyr  tone + delay       0.082 +/- 0.042 (range -0.024 to 0.226; N=6 mice)\n",
      "vip  tone + delay      -0.065 +/- 0.048 (range -0.199 to 0.071; N=4 mice)\n",
      "pv   tone + delay      -0.049 +/- 0.046 (range -0.216 to 0.144; N=6 mice)\n",
      "som  tone + delay       0.059 +/- 0.031 (range -0.034 to 0.196; N=7 mice)\n",
      "pyr     reward         -0.141 +/- 0.067 (range -0.381 to 0.145; N=6 mice)\n",
      "vip     reward          0.161 +/- 0.086 (range -0.090 to 0.361; N=4 mice)\n",
      "pv      reward          0.014 +/- 0.054 (range -0.201 to 0.160; N=6 mice)\n",
      "som     reward          0.017 +/- 0.040 (range -0.136 to 0.129; N=7 mice)\n"
     ]
    },
    {
     "name": "stderr",
     "output_type": "stream",
     "text": [
      "<ipython-input-4-631f941b8c72>:8: DeprecationWarning: elementwise comparison failed; this will raise an error in the future.\n",
      "  if not np.all(d1.index.to_numpy() == d7.index.to_numpy()):\n",
      "<ipython-input-4-631f941b8c72>:9: UserWarning: Index not completely matching.\n",
      "  warnings.warn('Index not completely matching.')\n"
     ]
    }
   ],
   "source": [
    "for tr_component, ct in itertools.product(['tone + delay', 'reward'], ['pyr', 'vip', 'pv', 'som']):\n",
    "    changes_by_mouse = get_change(obs_df, ct).groupby('mouse_id').mean()[tr_component]\n",
    "    print(\n",
    "        f'{ct:^3} {tr_component:^14} {changes_by_mouse.mean():>10.3f} +/- {sem(changes_by_mouse):.3f} '\n",
    "        f'(range {changes_by_mouse.min():.3f} to {changes_by_mouse.max():.3f}; N={len(changes_by_mouse)} mice)'\n",
    "    )"
   ]
  },
  {
   "cell_type": "code",
   "execution_count": 6,
   "metadata": {},
   "outputs": [],
   "source": [
    "stat_thresholds = {\n",
    "    0.05: '*',\n",
    "    0.01: '**',\n",
    "}"
   ]
  },
  {
   "cell_type": "markdown",
   "metadata": {},
   "source": [
    "# Generate the figure\n",
    "\n",
    "`plt.violinplot` is responsible for actually drawing the plot."
   ]
  },
  {
   "cell_type": "code",
   "execution_count": 9,
   "metadata": {},
   "outputs": [
    {
     "name": "stderr",
     "output_type": "stream",
     "text": [
      "<ipython-input-4-631f941b8c72>:8: DeprecationWarning: elementwise comparison failed; this will raise an error in the future.\n",
      "  if not np.all(d1.index.to_numpy() == d7.index.to_numpy()):\n",
      "<ipython-input-4-631f941b8c72>:9: UserWarning: Index not completely matching.\n",
      "  warnings.warn('Index not completely matching.')\n"
     ]
    },
    {
     "name": "stdout",
     "output_type": "stream",
     "text": [
      "F(y_0) = 0.002 (x_pos = -0.5; min. p is 0.001)\n",
      "F(y_1) = 0.959 (x_pos = 0; min. p is 0.001)\n",
      "F(y_2) = 0.939 (x_pos = 0.5; min. p is 0.001)\n",
      "F(y_3) = 0.064 (x_pos = 1; min. p is 0.001)\n",
      "F(y_4) = 1.0 (x_pos = 2; min. p is 0.001)\n",
      "F(y_5) = 0.0 (x_pos = 2.5; min. p is 0.001)\n",
      "F(y_6) = 0.305 (x_pos = 3; min. p is 0.001)\n",
      "F(y_7) = 0.299 (x_pos = 3.5; min. p is 0.001)\n"
     ]
    },
    {
     "data": {
      "image/png": "[encoded data removed]",
      "text/plain": [
       "<Figure size 216x144 with 1 Axes>"
      ]
     },
     "metadata": {
      "needs_background": "light"
     },
     "output_type": "display_data"
    }
   ],
   "source": [
    "# Plot null distributions as violins\n",
    "null_arr = np.array([\n",
    "    bootstrap_dfs[ct].query('(trial_component == @tr_component) and (day == \"delta\")')['spearman']\n",
    "    for tr_component, ct in itertools.product(['tone + delay', 'reward'], ['pyr', 'vip', 'pv', 'som'])\n",
    "]).T\n",
    "x_positions = [-0.5, 0, 0.5, 1, 2, 2.5, 3, 3.5]\n",
    "\n",
    "plt.figure(figsize=(3, 2))\n",
    "plt.subplot(111)\n",
    "violins = plt.violinplot(null_arr, x_positions, showextrema=False)\n",
    "\n",
    "for i, violin in enumerate(violins['bodies']):\n",
    "    violin.set_edgecolor((0.7,) * 3)\n",
    "    violin.set_facecolor((0.9,) * 3)\n",
    "    violin.set_alpha(1)\n",
    "    if i == 0:\n",
    "        violin.set_label('Null distribution\\n(1000 samples)')\n",
    "\n",
    "# Plot observed values\n",
    "y_obs = [\n",
    "    get_change(obs_df, ct).groupby('mouse_id').mean()[tr_component].mean()\n",
    "    for tr_component, ct in itertools.product(['tone + delay', 'reward'], ['pyr', 'vip', 'pv', 'som'])\n",
    "]\n",
    "labels = ['PN', 'VIP', 'PV', 'SOM']  # Labels for the x-axis. Make sure they match the order in y_obs above.\n",
    "shapes = ['^', 'o', 's', 'D']      # Shapes for the markers. See matplotlib.markers for more.\n",
    "for i, (x_pos, y) in enumerate(zip(x_positions, y_obs)):\n",
    "    pt = plt.plot(\n",
    "        x_pos, y, shapes[i%4], \n",
    "        color=sns.color_palette()[i%4+1], markersize=15, markeredgecolor='w', mew=1.5\n",
    "    )\n",
    "    if i < 4:\n",
    "        # Only attach legend labels once. Removing this line will cause duplicate entries in legend.\n",
    "        pt[0].set_label(labels[i])\n",
    "\n",
    "# Add statistical annotations\n",
    "for i, x_pos in enumerate(x_positions):\n",
    "    print(f'F(y_{i}) = {(y_obs[i] < null_arr[:, i]).sum() / null_arr.shape[0]} (x_pos = {x_pos}; min. p is {1/null_arr.shape[0]})')\n",
    "    for stat_thresh in [0.01, 0.05]:\n",
    "        if (\n",
    "            y_obs[i] < np.percentile(null_arr[:, i], 100 * stat_thresh/2.)  # Below ower tail of null dist\n",
    "        ) or (\n",
    "            y_obs[i] > np.percentile(null_arr[:, i], 100 * (1-stat_thresh/2.))  # Above upper tail of null dist\n",
    "        ):\n",
    "            plt.annotate(\n",
    "                stat_thresholds[stat_thresh], \n",
    "                (x_pos, max(0.15, y_obs[i] + 0.02)), \n",
    "                ha='center'\n",
    "            )\n",
    "            break\n",
    "\n",
    "plt.legend(bbox_to_anchor=(1, 1), loc='upper left')\n",
    "\n",
    "plt.xticks([0.25, 2.75], ['Tone', 'Reward'])\n",
    "plt.ylim(-0.22, 0.22)\n",
    "plt.ylabel('Mean change\\nfrom day 1 to 7\\n(Spearman $\\\\rho$)')\n",
    "\n",
    "plt.savefig(f'../img/bootstrap/all_celltypes_change_corr.png', dpi=600, bbox_inches='tight')\n",
    "plt.savefig(f'../img/bootstrap/all_celltypes_change_corr.svg', bbox_inches='tight')\n",
    "\n",
    "plt.show()"
   ]
  },
  {
   "cell_type": "code",
   "execution_count": null,
   "metadata": {},
   "outputs": [],
   "source": [
    "print(f'Min. p-value is {})"
   ]
  }
 ],
 "metadata": {
  "kernelspec": {
   "display_name": "Python 3",
   "language": "python",
   "name": "python3"
  },
  "language_info": {
   "codemirror_mode": {
    "name": "ipython",
    "version": 3
   },
   "file_extension": ".py",
   "mimetype": "text/x-python",
   "name": "python",
   "nbconvert_exporter": "python",
   "pygments_lexer": "ipython3",
   "version": "3.8.3"
  }
 },
 "nbformat": 4,
 "nbformat_minor": 4
}
