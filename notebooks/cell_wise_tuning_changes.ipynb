{
 "cells": [
  {
   "cell_type": "code",
   "execution_count": 1,
   "metadata": {},
   "outputs": [
    {
     "name": "stderr",
     "output_type": "stream",
     "text": [
      "\n",
      "Attaching package: ‘dplyr’\n",
      "\n",
      "The following objects are masked from ‘package:stats’:\n",
      "\n",
      "    filter, lag\n",
      "\n",
      "The following objects are masked from ‘package:base’:\n",
      "\n",
      "    intersect, setdiff, setequal, union\n",
      "\n"
     ]
    }
   ],
   "source": [
    "library(tidyr)\n",
    "library(dplyr)\n",
    "library(ggplot2)"
   ]
  },
  {
   "cell_type": "code",
   "execution_count": 2,
   "metadata": {},
   "outputs": [
    {
     "data": {
      "text/html": [
       "<table>\n",
       "<thead><tr><th scope=col>day</th><th scope=col>cell_type</th><th scope=col>cell_id</th><th scope=col>mouse_id</th><th scope=col>trial_id</th><th scope=col>tone</th><th scope=col>tone...delay</th><th scope=col>delay</th><th scope=col>reward</th></tr></thead>\n",
       "<tbody>\n",
       "\t<tr><td>1           </td><td>vip         </td><td>3121        </td><td>CL136       </td><td>5094        </td><td> 0.13798489 </td><td>-0.027988964</td><td>-0.14793946 </td><td> 0.03789182 </td></tr>\n",
       "\t<tr><td>1           </td><td>vip         </td><td>3121        </td><td>CL136       </td><td>5095        </td><td> 0.11568627 </td><td> 0.176498293</td><td> 0.12313947 </td><td>-0.07155153 </td></tr>\n",
       "\t<tr><td>1           </td><td>vip         </td><td>3121        </td><td>CL136       </td><td>5096        </td><td>-0.06912943 </td><td> 0.001183833</td><td> 0.05824727 </td><td> 0.10211240 </td></tr>\n",
       "\t<tr><td>1           </td><td>vip         </td><td>3121        </td><td>CL136       </td><td>5097        </td><td> 0.09978416 </td><td> 0.022661767</td><td>-0.05395247 </td><td> 0.01946407 </td></tr>\n",
       "\t<tr><td>1           </td><td>vip         </td><td>3121        </td><td>CL136       </td><td>5098        </td><td> 0.07888381 </td><td> 0.032715124</td><td>-0.02435786 </td><td>-0.01549540 </td></tr>\n",
       "\t<tr><td>1           </td><td>vip         </td><td>3121        </td><td>CL136       </td><td>5099        </td><td> 0.02274820 </td><td>-0.038963612</td><td>-0.06684784 </td><td>-0.08558579 </td></tr>\n",
       "</tbody>\n",
       "</table>\n"
      ],
      "text/latex": [
       "\\begin{tabular}{r|lllllllll}\n",
       " day & cell\\_type & cell\\_id & mouse\\_id & trial\\_id & tone & tone...delay & delay & reward\\\\\n",
       "\\hline\n",
       "\t 1            & vip          & 3121         & CL136        & 5094         &  0.13798489  & -0.027988964 & -0.14793946  &  0.03789182 \\\\\n",
       "\t 1            & vip          & 3121         & CL136        & 5095         &  0.11568627  &  0.176498293 &  0.12313947  & -0.07155153 \\\\\n",
       "\t 1            & vip          & 3121         & CL136        & 5096         & -0.06912943  &  0.001183833 &  0.05824727  &  0.10211240 \\\\\n",
       "\t 1            & vip          & 3121         & CL136        & 5097         &  0.09978416  &  0.022661767 & -0.05395247  &  0.01946407 \\\\\n",
       "\t 1            & vip          & 3121         & CL136        & 5098         &  0.07888381  &  0.032715124 & -0.02435786  & -0.01549540 \\\\\n",
       "\t 1            & vip          & 3121         & CL136        & 5099         &  0.02274820  & -0.038963612 & -0.06684784  & -0.08558579 \\\\\n",
       "\\end{tabular}\n"
      ],
      "text/markdown": [
       "\n",
       "| day | cell_type | cell_id | mouse_id | trial_id | tone | tone...delay | delay | reward |\n",
       "|---|---|---|---|---|---|---|---|---|\n",
       "| 1            | vip          | 3121         | CL136        | 5094         |  0.13798489  | -0.027988964 | -0.14793946  |  0.03789182  |\n",
       "| 1            | vip          | 3121         | CL136        | 5095         |  0.11568627  |  0.176498293 |  0.12313947  | -0.07155153  |\n",
       "| 1            | vip          | 3121         | CL136        | 5096         | -0.06912943  |  0.001183833 |  0.05824727  |  0.10211240  |\n",
       "| 1            | vip          | 3121         | CL136        | 5097         |  0.09978416  |  0.022661767 | -0.05395247  |  0.01946407  |\n",
       "| 1            | vip          | 3121         | CL136        | 5098         |  0.07888381  |  0.032715124 | -0.02435786  | -0.01549540  |\n",
       "| 1            | vip          | 3121         | CL136        | 5099         |  0.02274820  | -0.038963612 | -0.06684784  | -0.08558579  |\n",
       "\n"
      ],
      "text/plain": [
       "  day cell_type cell_id mouse_id trial_id tone        tone...delay delay      \n",
       "1 1   vip       3121    CL136    5094      0.13798489 -0.027988964 -0.14793946\n",
       "2 1   vip       3121    CL136    5095      0.11568627  0.176498293  0.12313947\n",
       "3 1   vip       3121    CL136    5096     -0.06912943  0.001183833  0.05824727\n",
       "4 1   vip       3121    CL136    5097      0.09978416  0.022661767 -0.05395247\n",
       "5 1   vip       3121    CL136    5098      0.07888381  0.032715124 -0.02435786\n",
       "6 1   vip       3121    CL136    5099      0.02274820 -0.038963612 -0.06684784\n",
       "  reward     \n",
       "1  0.03789182\n",
       "2 -0.07155153\n",
       "3  0.10211240\n",
       "4  0.01946407\n",
       "5 -0.01549540\n",
       "6 -0.08558579"
      ]
     },
     "metadata": {},
     "output_type": "display_data"
    }
   ],
   "source": [
    "similarity <- read.csv('../../interneuron-reward-data/processed/ideal_projection_similarity_trial_resolved.csv')\n",
    "\n",
    "# Convert numeric cell_id to factor\n",
    "similarity[, 'day'] <- as.factor(similarity[, 'day'])\n",
    "similarity[, 'cell_id'] <- as.factor(similarity[, 'cell_id'])\n",
    "similarity[, 'trial_id'] <- as.factor(similarity[, 'trial_id'])\n",
    "\n",
    "# Display first few rows\n",
    "head(similarity)"
   ]
  },
  {
   "cell_type": "code",
   "execution_count": 3,
   "metadata": {},
   "outputs": [
    {
     "name": "stderr",
     "output_type": "stream",
     "text": [
      "`summarise()` ungrouping output (override with `.groups` argument)\n"
     ]
    }
   ],
   "source": [
    "reward_change_by_cell <- similarity %>% \n",
    "    group_by(cell_id) %>% \n",
    "    summarize(\n",
    "        cell_id=cell_id[1],\n",
    "        cell_type=cell_type[1],\n",
    "        mouse_id=mouse_id[1],\n",
    "        greater_p_value=ifelse(\n",
    "            (sum(day == 1) > 0) & (sum(day == 7) > 0),\n",
    "            wilcox.test(\n",
    "                reward[day == 1], \n",
    "                reward[day == 7],\n",
    "                alternative='greater',\n",
    "                paired=FALSE,\n",
    "                na.action=na.exclude\n",
    "            )$p.value,\n",
    "            NA\n",
    "        ),\n",
    "        less_p_value=ifelse(\n",
    "            (sum(day == 1) > 0) & (sum(day == 7) > 0),\n",
    "            wilcox.test(\n",
    "                reward[day == 1], \n",
    "                reward[day == 7],\n",
    "                alternative='less',\n",
    "                paired=FALSE,\n",
    "                na.action=na.exclude\n",
    "            )$p.value,\n",
    "            NA\n",
    "        )\n",
    "    )"
   ]
  },
  {
   "cell_type": "code",
   "execution_count": 4,
   "metadata": {},
   "outputs": [
    {
     "data": {
      "text/html": [
       "<table>\n",
       "<thead><tr><th scope=col>cell_id</th><th scope=col>cell_type</th><th scope=col>mouse_id</th><th scope=col>greater_p_value</th><th scope=col>less_p_value</th></tr></thead>\n",
       "<tbody>\n",
       "\t<tr><td>1           </td><td>pyr         </td><td>CL174       </td><td>0.6676533382</td><td>3.367961e-01</td></tr>\n",
       "\t<tr><td>2           </td><td>pyr         </td><td>CL174       </td><td>0.2934068242</td><td>7.107881e-01</td></tr>\n",
       "\t<tr><td>3           </td><td>pyr         </td><td>CL174       </td><td>0.0007741467</td><td>9.992600e-01</td></tr>\n",
       "\t<tr><td>4           </td><td>pyr         </td><td>CL174       </td><td>0.0262814261</td><td>9.744726e-01</td></tr>\n",
       "\t<tr><td>5           </td><td>pyr         </td><td>CL174       </td><td>0.9982381444</td><td>1.836443e-03</td></tr>\n",
       "\t<tr><td>6           </td><td>pyr         </td><td>CL174       </td><td>0.9999981558</td><td>1.976601e-06</td></tr>\n",
       "</tbody>\n",
       "</table>\n"
      ],
      "text/latex": [
       "\\begin{tabular}{r|lllll}\n",
       " cell\\_id & cell\\_type & mouse\\_id & greater\\_p\\_value & less\\_p\\_value\\\\\n",
       "\\hline\n",
       "\t 1            & pyr          & CL174        & 0.6676533382 & 3.367961e-01\\\\\n",
       "\t 2            & pyr          & CL174        & 0.2934068242 & 7.107881e-01\\\\\n",
       "\t 3            & pyr          & CL174        & 0.0007741467 & 9.992600e-01\\\\\n",
       "\t 4            & pyr          & CL174        & 0.0262814261 & 9.744726e-01\\\\\n",
       "\t 5            & pyr          & CL174        & 0.9982381444 & 1.836443e-03\\\\\n",
       "\t 6            & pyr          & CL174        & 0.9999981558 & 1.976601e-06\\\\\n",
       "\\end{tabular}\n"
      ],
      "text/markdown": [
       "\n",
       "| cell_id | cell_type | mouse_id | greater_p_value | less_p_value |\n",
       "|---|---|---|---|---|\n",
       "| 1            | pyr          | CL174        | 0.6676533382 | 3.367961e-01 |\n",
       "| 2            | pyr          | CL174        | 0.2934068242 | 7.107881e-01 |\n",
       "| 3            | pyr          | CL174        | 0.0007741467 | 9.992600e-01 |\n",
       "| 4            | pyr          | CL174        | 0.0262814261 | 9.744726e-01 |\n",
       "| 5            | pyr          | CL174        | 0.9982381444 | 1.836443e-03 |\n",
       "| 6            | pyr          | CL174        | 0.9999981558 | 1.976601e-06 |\n",
       "\n"
      ],
      "text/plain": [
       "  cell_id cell_type mouse_id greater_p_value less_p_value\n",
       "1 1       pyr       CL174    0.6676533382    3.367961e-01\n",
       "2 2       pyr       CL174    0.2934068242    7.107881e-01\n",
       "3 3       pyr       CL174    0.0007741467    9.992600e-01\n",
       "4 4       pyr       CL174    0.0262814261    9.744726e-01\n",
       "5 5       pyr       CL174    0.9982381444    1.836443e-03\n",
       "6 6       pyr       CL174    0.9999981558    1.976601e-06"
      ]
     },
     "metadata": {},
     "output_type": "display_data"
    }
   ],
   "source": [
    "head(reward_change_by_cell)"
   ]
  },
  {
   "cell_type": "code",
   "execution_count": 5,
   "metadata": {},
   "outputs": [],
   "source": [
    "omnibus_test <- function(num_significant_p_values, num_tests, alpha_level) {\n",
    "    if (num_significant_p_values == 0) {\n",
    "        return(1.0)\n",
    "    } else {\n",
    "        return(\n",
    "            pbinom(num_significant_p_values - 1, num_tests, alpha_level, lower.tail=FALSE)\n",
    "        )\n",
    "    }\n",
    "}"
   ]
  },
  {
   "cell_type": "code",
   "execution_count": 7,
   "metadata": {},
   "outputs": [
    {
     "name": "stderr",
     "output_type": "stream",
     "text": [
      "`summarise()` regrouping output by 'cell_type' (override with `.groups` argument)\n"
     ]
    }
   ],
   "source": [
    "omnibus_p_vals <- reward_change_by_cell %>%\n",
    "    group_by(cell_type, mouse_id) %>%\n",
    "    summarize(\n",
    "        cell_type=cell_type[1],\n",
    "        mouse_id=mouse_id[1],\n",
    "        num_greater=sum(greater_p_value <= 0.05, na.rm=TRUE),\n",
    "        num_less=sum(less_p_value <= 0.05, na.rm=TRUE),\n",
    "        num_cells=length(greater_p_value),\n",
    "        greater_omnibus_p=omnibus_test(\n",
    "            sum(greater_p_value <= 0.05, na.rm=TRUE),\n",
    "            length(greater_p_value),\n",
    "            0.05\n",
    "        ),\n",
    "        less_omnibus_p=omnibus_test(\n",
    "            sum(less_p_value <= 0.05, na.rm=TRUE),\n",
    "            length(less_p_value),\n",
    "            0.05\n",
    "        )\n",
    "    )\n",
    "\n",
    "omnibus_p_vals[, 'pct_greater'] <- omnibus_p_vals[, 'num_greater'] / omnibus_p_vals[, 'num_cells']\n",
    "omnibus_p_vals[, 'pct_less'] <- omnibus_p_vals[, 'num_less'] / omnibus_p_vals[, 'num_cells']\n"
   ]
  },
  {
   "cell_type": "code",
   "execution_count": 8,
   "metadata": {},
   "outputs": [
    {
     "data": {
      "text/html": [
       "<table>\n",
       "<thead><tr><th scope=col>cell_type</th><th scope=col>mouse_id</th><th scope=col>num_greater</th><th scope=col>num_less</th><th scope=col>num_cells</th><th scope=col>greater_omnibus_p</th><th scope=col>less_omnibus_p</th><th scope=col>pct_greater</th><th scope=col>pct_less</th></tr></thead>\n",
       "<tbody>\n",
       "\t<tr><td>pv           </td><td>CL147        </td><td> 39          </td><td>  5          </td><td>102          </td><td> 1.861922e-24</td><td> 5.817365e-01</td><td>0.38235294   </td><td>0.04901961   </td></tr>\n",
       "\t<tr><td>pv           </td><td>CL158        </td><td>  7          </td><td>  1          </td><td> 17          </td><td> 9.728422e-06</td><td> 5.818797e-01</td><td>0.41176471   </td><td>0.05882353   </td></tr>\n",
       "\t<tr><td>pv           </td><td>CL172        </td><td>  4          </td><td> 13          </td><td> 45          </td><td> 1.866167e-01</td><td> 1.959052e-07</td><td>0.08888889   </td><td>0.28888889   </td></tr>\n",
       "\t<tr><td>pv           </td><td>CL195        </td><td>  0          </td><td> 23          </td><td> 40          </td><td> 1.000000e+00</td><td> 4.593372e-20</td><td>0.00000000   </td><td>0.57500000   </td></tr>\n",
       "\t<tr><td>pv           </td><td>CL196        </td><td> 32          </td><td>  6          </td><td> 61          </td><td> 1.203155e-25</td><td> 8.380005e-02</td><td>0.52459016   </td><td>0.09836066   </td></tr>\n",
       "\t<tr><td>pv           </td><td>CL198        </td><td>  0          </td><td> 23          </td><td> 47          </td><td> 1.000000e+00</td><td> 5.922695e-18</td><td>0.00000000   </td><td>0.48936170   </td></tr>\n",
       "\t<tr><td>pyr          </td><td>CL174        </td><td>124          </td><td> 15          </td><td>211          </td><td>3.959208e-103</td><td> 1.096242e-01</td><td>0.58767773   </td><td>0.07109005   </td></tr>\n",
       "\t<tr><td>pyr          </td><td>CL175        </td><td> 22          </td><td>  6          </td><td> 73          </td><td> 5.053582e-12</td><td> 1.578928e-01</td><td>0.30136986   </td><td>0.08219178   </td></tr>\n",
       "\t<tr><td>pyr          </td><td>CL176        </td><td> 48          </td><td> 91          </td><td>299          </td><td> 1.258279e-12</td><td> 3.335544e-45</td><td>0.16053512   </td><td>0.30434783   </td></tr>\n",
       "\t<tr><td>pyr          </td><td>CL181        </td><td>118          </td><td>  3          </td><td>183          </td><td>3.462029e-105</td><td> 9.952414e-01</td><td>0.64480874   </td><td>0.01639344   </td></tr>\n",
       "\t<tr><td>pyr          </td><td>CL182        </td><td>  8          </td><td>135          </td><td>255          </td><td> 9.430612e-01</td><td>9.513748e-104</td><td>0.03137255   </td><td>0.52941176   </td></tr>\n",
       "\t<tr><td>pyr          </td><td>CL184        </td><td> 57          </td><td> 32          </td><td>186          </td><td> 3.996688e-29</td><td> 1.076196e-09</td><td>0.30645161   </td><td>0.17204301   </td></tr>\n",
       "\t<tr><td>vip          </td><td>CL136        </td><td> 25          </td><td> 33          </td><td>120          </td><td> 1.175663e-09</td><td> 5.665827e-16</td><td>0.20833333   </td><td>0.27500000   </td></tr>\n",
       "\t<tr><td>vip          </td><td>CL144        </td><td> 35          </td><td>  9          </td><td>118          </td><td> 5.385232e-18</td><td> 1.371836e-01</td><td>0.29661017   </td><td>0.07627119   </td></tr>\n",
       "\t<tr><td>vip          </td><td>CL146        </td><td>  2          </td><td> 76          </td><td>104          </td><td> 9.687819e-01</td><td> 5.749041e-75</td><td>0.01923077   </td><td>0.73076923   </td></tr>\n",
       "\t<tr><td>vip          </td><td>CL188        </td><td>  2          </td><td> 52          </td><td> 65          </td><td> 8.423986e-01</td><td> 1.896203e-55</td><td>0.03076923   </td><td>0.80000000   </td></tr>\n",
       "</tbody>\n",
       "</table>\n"
      ],
      "text/latex": [
       "\\begin{tabular}{r|lllllllll}\n",
       " cell\\_type & mouse\\_id & num\\_greater & num\\_less & num\\_cells & greater\\_omnibus\\_p & less\\_omnibus\\_p & pct\\_greater & pct\\_less\\\\\n",
       "\\hline\n",
       "\t pv            & CL147         &  39           &   5           & 102           &  1.861922e-24 &  5.817365e-01 & 0.38235294    & 0.04901961   \\\\\n",
       "\t pv            & CL158         &   7           &   1           &  17           &  9.728422e-06 &  5.818797e-01 & 0.41176471    & 0.05882353   \\\\\n",
       "\t pv            & CL172         &   4           &  13           &  45           &  1.866167e-01 &  1.959052e-07 & 0.08888889    & 0.28888889   \\\\\n",
       "\t pv            & CL195         &   0           &  23           &  40           &  1.000000e+00 &  4.593372e-20 & 0.00000000    & 0.57500000   \\\\\n",
       "\t pv            & CL196         &  32           &   6           &  61           &  1.203155e-25 &  8.380005e-02 & 0.52459016    & 0.09836066   \\\\\n",
       "\t pv            & CL198         &   0           &  23           &  47           &  1.000000e+00 &  5.922695e-18 & 0.00000000    & 0.48936170   \\\\\n",
       "\t pyr           & CL174         & 124           &  15           & 211           & 3.959208e-103 &  1.096242e-01 & 0.58767773    & 0.07109005   \\\\\n",
       "\t pyr           & CL175         &  22           &   6           &  73           &  5.053582e-12 &  1.578928e-01 & 0.30136986    & 0.08219178   \\\\\n",
       "\t pyr           & CL176         &  48           &  91           & 299           &  1.258279e-12 &  3.335544e-45 & 0.16053512    & 0.30434783   \\\\\n",
       "\t pyr           & CL181         & 118           &   3           & 183           & 3.462029e-105 &  9.952414e-01 & 0.64480874    & 0.01639344   \\\\\n",
       "\t pyr           & CL182         &   8           & 135           & 255           &  9.430612e-01 & 9.513748e-104 & 0.03137255    & 0.52941176   \\\\\n",
       "\t pyr           & CL184         &  57           &  32           & 186           &  3.996688e-29 &  1.076196e-09 & 0.30645161    & 0.17204301   \\\\\n",
       "\t vip           & CL136         &  25           &  33           & 120           &  1.175663e-09 &  5.665827e-16 & 0.20833333    & 0.27500000   \\\\\n",
       "\t vip           & CL144         &  35           &   9           & 118           &  5.385232e-18 &  1.371836e-01 & 0.29661017    & 0.07627119   \\\\\n",
       "\t vip           & CL146         &   2           &  76           & 104           &  9.687819e-01 &  5.749041e-75 & 0.01923077    & 0.73076923   \\\\\n",
       "\t vip           & CL188         &   2           &  52           &  65           &  8.423986e-01 &  1.896203e-55 & 0.03076923    & 0.80000000   \\\\\n",
       "\\end{tabular}\n"
      ],
      "text/markdown": [
       "\n",
       "| cell_type | mouse_id | num_greater | num_less | num_cells | greater_omnibus_p | less_omnibus_p | pct_greater | pct_less |\n",
       "|---|---|---|---|---|---|---|---|---|\n",
       "| pv            | CL147         |  39           |   5           | 102           |  1.861922e-24 |  5.817365e-01 | 0.38235294    | 0.04901961    |\n",
       "| pv            | CL158         |   7           |   1           |  17           |  9.728422e-06 |  5.818797e-01 | 0.41176471    | 0.05882353    |\n",
       "| pv            | CL172         |   4           |  13           |  45           |  1.866167e-01 |  1.959052e-07 | 0.08888889    | 0.28888889    |\n",
       "| pv            | CL195         |   0           |  23           |  40           |  1.000000e+00 |  4.593372e-20 | 0.00000000    | 0.57500000    |\n",
       "| pv            | CL196         |  32           |   6           |  61           |  1.203155e-25 |  8.380005e-02 | 0.52459016    | 0.09836066    |\n",
       "| pv            | CL198         |   0           |  23           |  47           |  1.000000e+00 |  5.922695e-18 | 0.00000000    | 0.48936170    |\n",
       "| pyr           | CL174         | 124           |  15           | 211           | 3.959208e-103 |  1.096242e-01 | 0.58767773    | 0.07109005    |\n",
       "| pyr           | CL175         |  22           |   6           |  73           |  5.053582e-12 |  1.578928e-01 | 0.30136986    | 0.08219178    |\n",
       "| pyr           | CL176         |  48           |  91           | 299           |  1.258279e-12 |  3.335544e-45 | 0.16053512    | 0.30434783    |\n",
       "| pyr           | CL181         | 118           |   3           | 183           | 3.462029e-105 |  9.952414e-01 | 0.64480874    | 0.01639344    |\n",
       "| pyr           | CL182         |   8           | 135           | 255           |  9.430612e-01 | 9.513748e-104 | 0.03137255    | 0.52941176    |\n",
       "| pyr           | CL184         |  57           |  32           | 186           |  3.996688e-29 |  1.076196e-09 | 0.30645161    | 0.17204301    |\n",
       "| vip           | CL136         |  25           |  33           | 120           |  1.175663e-09 |  5.665827e-16 | 0.20833333    | 0.27500000    |\n",
       "| vip           | CL144         |  35           |   9           | 118           |  5.385232e-18 |  1.371836e-01 | 0.29661017    | 0.07627119    |\n",
       "| vip           | CL146         |   2           |  76           | 104           |  9.687819e-01 |  5.749041e-75 | 0.01923077    | 0.73076923    |\n",
       "| vip           | CL188         |   2           |  52           |  65           |  8.423986e-01 |  1.896203e-55 | 0.03076923    | 0.80000000    |\n",
       "\n"
      ],
      "text/plain": [
       "   cell_type mouse_id num_greater num_less num_cells greater_omnibus_p\n",
       "1  pv        CL147     39           5      102        1.861922e-24    \n",
       "2  pv        CL158      7           1       17        9.728422e-06    \n",
       "3  pv        CL172      4          13       45        1.866167e-01    \n",
       "4  pv        CL195      0          23       40        1.000000e+00    \n",
       "5  pv        CL196     32           6       61        1.203155e-25    \n",
       "6  pv        CL198      0          23       47        1.000000e+00    \n",
       "7  pyr       CL174    124          15      211       3.959208e-103    \n",
       "8  pyr       CL175     22           6       73        5.053582e-12    \n",
       "9  pyr       CL176     48          91      299        1.258279e-12    \n",
       "10 pyr       CL181    118           3      183       3.462029e-105    \n",
       "11 pyr       CL182      8         135      255        9.430612e-01    \n",
       "12 pyr       CL184     57          32      186        3.996688e-29    \n",
       "13 vip       CL136     25          33      120        1.175663e-09    \n",
       "14 vip       CL144     35           9      118        5.385232e-18    \n",
       "15 vip       CL146      2          76      104        9.687819e-01    \n",
       "16 vip       CL188      2          52       65        8.423986e-01    \n",
       "   less_omnibus_p pct_greater pct_less  \n",
       "1   5.817365e-01  0.38235294  0.04901961\n",
       "2   5.818797e-01  0.41176471  0.05882353\n",
       "3   1.959052e-07  0.08888889  0.28888889\n",
       "4   4.593372e-20  0.00000000  0.57500000\n",
       "5   8.380005e-02  0.52459016  0.09836066\n",
       "6   5.922695e-18  0.00000000  0.48936170\n",
       "7   1.096242e-01  0.58767773  0.07109005\n",
       "8   1.578928e-01  0.30136986  0.08219178\n",
       "9   3.335544e-45  0.16053512  0.30434783\n",
       "10  9.952414e-01  0.64480874  0.01639344\n",
       "11 9.513748e-104  0.03137255  0.52941176\n",
       "12  1.076196e-09  0.30645161  0.17204301\n",
       "13  5.665827e-16  0.20833333  0.27500000\n",
       "14  1.371836e-01  0.29661017  0.07627119\n",
       "15  5.749041e-75  0.01923077  0.73076923\n",
       "16  1.896203e-55  0.03076923  0.80000000"
      ]
     },
     "metadata": {},
     "output_type": "display_data"
    }
   ],
   "source": [
    "omnibus_p_vals"
   ]
  },
  {
   "cell_type": "code",
   "execution_count": 29,
   "metadata": {},
   "outputs": [],
   "source": [
    "omnibus_p_vals[, 'greater_significance'] <- omnibus_p_vals[, 'greater_omnibus_p'] < (0.05 / 16)\n",
    "omnibus_p_vals[, 'less_significance'] <- omnibus_p_vals[, 'less_omnibus_p'] < (0.05 / 16)"
   ]
  },
  {
   "cell_type": "code",
   "execution_count": 30,
   "metadata": {},
   "outputs": [
    {
     "data": {
      "text/html": [
       "<table>\n",
       "<thead><tr><th scope=col>cell_type</th><th scope=col>mouse_id</th><th scope=col>greater_omnibus_p</th><th scope=col>less_omnibus_p</th><th scope=col>greater_significance</th><th scope=col>less_significance</th></tr></thead>\n",
       "<tbody>\n",
       "\t<tr><td>pv           </td><td>CL147        </td><td> 1.861922e-24</td><td> 5.817365e-01</td><td> TRUE        </td><td>FALSE        </td></tr>\n",
       "\t<tr><td>pv           </td><td>CL158        </td><td> 9.728422e-06</td><td> 5.818797e-01</td><td> TRUE        </td><td>FALSE        </td></tr>\n",
       "\t<tr><td>pv           </td><td>CL172        </td><td> 1.866167e-01</td><td> 1.959052e-07</td><td>FALSE        </td><td> TRUE        </td></tr>\n",
       "\t<tr><td>pv           </td><td>CL195        </td><td> 1.000000e+00</td><td> 4.593372e-20</td><td>FALSE        </td><td> TRUE        </td></tr>\n",
       "\t<tr><td>pv           </td><td>CL196        </td><td> 1.203155e-25</td><td> 8.380005e-02</td><td> TRUE        </td><td>FALSE        </td></tr>\n",
       "\t<tr><td>pv           </td><td>CL198        </td><td> 1.000000e+00</td><td> 5.922695e-18</td><td>FALSE        </td><td> TRUE        </td></tr>\n",
       "\t<tr><td>pyr          </td><td>CL174        </td><td>3.959208e-103</td><td> 1.096242e-01</td><td> TRUE        </td><td>FALSE        </td></tr>\n",
       "\t<tr><td>pyr          </td><td>CL175        </td><td> 5.053582e-12</td><td> 1.578928e-01</td><td> TRUE        </td><td>FALSE        </td></tr>\n",
       "\t<tr><td>pyr          </td><td>CL176        </td><td> 1.258279e-12</td><td> 3.335544e-45</td><td> TRUE        </td><td> TRUE        </td></tr>\n",
       "\t<tr><td>pyr          </td><td>CL181        </td><td>3.462029e-105</td><td> 9.952414e-01</td><td> TRUE        </td><td>FALSE        </td></tr>\n",
       "\t<tr><td>pyr          </td><td>CL182        </td><td> 9.430612e-01</td><td>9.513748e-104</td><td>FALSE        </td><td> TRUE        </td></tr>\n",
       "\t<tr><td>pyr          </td><td>CL184        </td><td> 3.996688e-29</td><td> 1.076196e-09</td><td> TRUE        </td><td> TRUE        </td></tr>\n",
       "\t<tr><td>vip          </td><td>CL136        </td><td> 1.175663e-09</td><td> 5.665827e-16</td><td> TRUE        </td><td> TRUE        </td></tr>\n",
       "\t<tr><td>vip          </td><td>CL144        </td><td> 5.385232e-18</td><td> 1.371836e-01</td><td> TRUE        </td><td>FALSE        </td></tr>\n",
       "\t<tr><td>vip          </td><td>CL146        </td><td> 9.687819e-01</td><td> 5.749041e-75</td><td>FALSE        </td><td> TRUE        </td></tr>\n",
       "\t<tr><td>vip          </td><td>CL188        </td><td> 8.423986e-01</td><td> 1.896203e-55</td><td>FALSE        </td><td> TRUE        </td></tr>\n",
       "</tbody>\n",
       "</table>\n"
      ],
      "text/latex": [
       "\\begin{tabular}{r|llllll}\n",
       " cell\\_type & mouse\\_id & greater\\_omnibus\\_p & less\\_omnibus\\_p & greater\\_significance & less\\_significance\\\\\n",
       "\\hline\n",
       "\t pv            & CL147         &  1.861922e-24 &  5.817365e-01 &  TRUE         & FALSE        \\\\\n",
       "\t pv            & CL158         &  9.728422e-06 &  5.818797e-01 &  TRUE         & FALSE        \\\\\n",
       "\t pv            & CL172         &  1.866167e-01 &  1.959052e-07 & FALSE         &  TRUE        \\\\\n",
       "\t pv            & CL195         &  1.000000e+00 &  4.593372e-20 & FALSE         &  TRUE        \\\\\n",
       "\t pv            & CL196         &  1.203155e-25 &  8.380005e-02 &  TRUE         & FALSE        \\\\\n",
       "\t pv            & CL198         &  1.000000e+00 &  5.922695e-18 & FALSE         &  TRUE        \\\\\n",
       "\t pyr           & CL174         & 3.959208e-103 &  1.096242e-01 &  TRUE         & FALSE        \\\\\n",
       "\t pyr           & CL175         &  5.053582e-12 &  1.578928e-01 &  TRUE         & FALSE        \\\\\n",
       "\t pyr           & CL176         &  1.258279e-12 &  3.335544e-45 &  TRUE         &  TRUE        \\\\\n",
       "\t pyr           & CL181         & 3.462029e-105 &  9.952414e-01 &  TRUE         & FALSE        \\\\\n",
       "\t pyr           & CL182         &  9.430612e-01 & 9.513748e-104 & FALSE         &  TRUE        \\\\\n",
       "\t pyr           & CL184         &  3.996688e-29 &  1.076196e-09 &  TRUE         &  TRUE        \\\\\n",
       "\t vip           & CL136         &  1.175663e-09 &  5.665827e-16 &  TRUE         &  TRUE        \\\\\n",
       "\t vip           & CL144         &  5.385232e-18 &  1.371836e-01 &  TRUE         & FALSE        \\\\\n",
       "\t vip           & CL146         &  9.687819e-01 &  5.749041e-75 & FALSE         &  TRUE        \\\\\n",
       "\t vip           & CL188         &  8.423986e-01 &  1.896203e-55 & FALSE         &  TRUE        \\\\\n",
       "\\end{tabular}\n"
      ],
      "text/markdown": [
       "\n",
       "| cell_type | mouse_id | greater_omnibus_p | less_omnibus_p | greater_significance | less_significance |\n",
       "|---|---|---|---|---|---|\n",
       "| pv            | CL147         |  1.861922e-24 |  5.817365e-01 |  TRUE         | FALSE         |\n",
       "| pv            | CL158         |  9.728422e-06 |  5.818797e-01 |  TRUE         | FALSE         |\n",
       "| pv            | CL172         |  1.866167e-01 |  1.959052e-07 | FALSE         |  TRUE         |\n",
       "| pv            | CL195         |  1.000000e+00 |  4.593372e-20 | FALSE         |  TRUE         |\n",
       "| pv            | CL196         |  1.203155e-25 |  8.380005e-02 |  TRUE         | FALSE         |\n",
       "| pv            | CL198         |  1.000000e+00 |  5.922695e-18 | FALSE         |  TRUE         |\n",
       "| pyr           | CL174         | 3.959208e-103 |  1.096242e-01 |  TRUE         | FALSE         |\n",
       "| pyr           | CL175         |  5.053582e-12 |  1.578928e-01 |  TRUE         | FALSE         |\n",
       "| pyr           | CL176         |  1.258279e-12 |  3.335544e-45 |  TRUE         |  TRUE         |\n",
       "| pyr           | CL181         | 3.462029e-105 |  9.952414e-01 |  TRUE         | FALSE         |\n",
       "| pyr           | CL182         |  9.430612e-01 | 9.513748e-104 | FALSE         |  TRUE         |\n",
       "| pyr           | CL184         |  3.996688e-29 |  1.076196e-09 |  TRUE         |  TRUE         |\n",
       "| vip           | CL136         |  1.175663e-09 |  5.665827e-16 |  TRUE         |  TRUE         |\n",
       "| vip           | CL144         |  5.385232e-18 |  1.371836e-01 |  TRUE         | FALSE         |\n",
       "| vip           | CL146         |  9.687819e-01 |  5.749041e-75 | FALSE         |  TRUE         |\n",
       "| vip           | CL188         |  8.423986e-01 |  1.896203e-55 | FALSE         |  TRUE         |\n",
       "\n"
      ],
      "text/plain": [
       "   cell_type mouse_id greater_omnibus_p less_omnibus_p greater_significance\n",
       "1  pv        CL147     1.861922e-24      5.817365e-01   TRUE               \n",
       "2  pv        CL158     9.728422e-06      5.818797e-01   TRUE               \n",
       "3  pv        CL172     1.866167e-01      1.959052e-07  FALSE               \n",
       "4  pv        CL195     1.000000e+00      4.593372e-20  FALSE               \n",
       "5  pv        CL196     1.203155e-25      8.380005e-02   TRUE               \n",
       "6  pv        CL198     1.000000e+00      5.922695e-18  FALSE               \n",
       "7  pyr       CL174    3.959208e-103      1.096242e-01   TRUE               \n",
       "8  pyr       CL175     5.053582e-12      1.578928e-01   TRUE               \n",
       "9  pyr       CL176     1.258279e-12      3.335544e-45   TRUE               \n",
       "10 pyr       CL181    3.462029e-105      9.952414e-01   TRUE               \n",
       "11 pyr       CL182     9.430612e-01     9.513748e-104  FALSE               \n",
       "12 pyr       CL184     3.996688e-29      1.076196e-09   TRUE               \n",
       "13 vip       CL136     1.175663e-09      5.665827e-16   TRUE               \n",
       "14 vip       CL144     5.385232e-18      1.371836e-01   TRUE               \n",
       "15 vip       CL146     9.687819e-01      5.749041e-75  FALSE               \n",
       "16 vip       CL188     8.423986e-01      1.896203e-55  FALSE               \n",
       "   less_significance\n",
       "1  FALSE            \n",
       "2  FALSE            \n",
       "3   TRUE            \n",
       "4   TRUE            \n",
       "5  FALSE            \n",
       "6   TRUE            \n",
       "7  FALSE            \n",
       "8  FALSE            \n",
       "9   TRUE            \n",
       "10 FALSE            \n",
       "11  TRUE            \n",
       "12  TRUE            \n",
       "13  TRUE            \n",
       "14 FALSE            \n",
       "15  TRUE            \n",
       "16  TRUE            "
      ]
     },
     "metadata": {},
     "output_type": "display_data"
    }
   ],
   "source": [
    "omnibus_p_vals"
   ]
  },
  {
   "cell_type": "code",
   "execution_count": 34,
   "metadata": {},
   "outputs": [
    {
     "name": "stderr",
     "output_type": "stream",
     "text": [
      "`summarise()` ungrouping output (override with `.groups` argument)\n"
     ]
    },
    {
     "data": {
      "text/html": [
       "<table>\n",
       "<thead><tr><th scope=col>cell_type</th><th scope=col>num_greater</th><th scope=col>num_less</th><th scope=col>num_cells</th><th scope=col>greater_omnibus_p</th><th scope=col>less_omnibus_p</th><th scope=col>pct_greater</th><th scope=col>pct_less</th></tr></thead>\n",
       "<tbody>\n",
       "\t<tr><td>pv           </td><td> 82          </td><td> 71          </td><td> 312         </td><td> 1.037671e-35</td><td> 5.541947e-27</td><td>0.2628205    </td><td>0.2275641    </td></tr>\n",
       "\t<tr><td>pyr          </td><td>377          </td><td>282          </td><td>1207         </td><td>9.434181e-186</td><td>9.739341e-105</td><td>0.3123447    </td><td>0.2336371    </td></tr>\n",
       "\t<tr><td>vip          </td><td> 64          </td><td>170          </td><td> 407         </td><td> 7.436484e-16</td><td>1.969450e-108</td><td>0.1572482    </td><td>0.4176904    </td></tr>\n",
       "</tbody>\n",
       "</table>\n"
      ],
      "text/latex": [
       "\\begin{tabular}{r|llllllll}\n",
       " cell\\_type & num\\_greater & num\\_less & num\\_cells & greater\\_omnibus\\_p & less\\_omnibus\\_p & pct\\_greater & pct\\_less\\\\\n",
       "\\hline\n",
       "\t pv            &  82           &  71           &  312          &  1.037671e-35 &  5.541947e-27 & 0.2628205     & 0.2275641    \\\\\n",
       "\t pyr           & 377           & 282           & 1207          & 9.434181e-186 & 9.739341e-105 & 0.3123447     & 0.2336371    \\\\\n",
       "\t vip           &  64           & 170           &  407          &  7.436484e-16 & 1.969450e-108 & 0.1572482     & 0.4176904    \\\\\n",
       "\\end{tabular}\n"
      ],
      "text/markdown": [
       "\n",
       "| cell_type | num_greater | num_less | num_cells | greater_omnibus_p | less_omnibus_p | pct_greater | pct_less |\n",
       "|---|---|---|---|---|---|---|---|\n",
       "| pv            |  82           |  71           |  312          |  1.037671e-35 |  5.541947e-27 | 0.2628205     | 0.2275641     |\n",
       "| pyr           | 377           | 282           | 1207          | 9.434181e-186 | 9.739341e-105 | 0.3123447     | 0.2336371     |\n",
       "| vip           |  64           | 170           |  407          |  7.436484e-16 | 1.969450e-108 | 0.1572482     | 0.4176904     |\n",
       "\n"
      ],
      "text/plain": [
       "  cell_type num_greater num_less num_cells greater_omnibus_p less_omnibus_p\n",
       "1 pv         82          71       312       1.037671e-35      5.541947e-27 \n",
       "2 pyr       377         282      1207      9.434181e-186     9.739341e-105 \n",
       "3 vip        64         170       407       7.436484e-16     1.969450e-108 \n",
       "  pct_greater pct_less \n",
       "1 0.2628205   0.2275641\n",
       "2 0.3123447   0.2336371\n",
       "3 0.1572482   0.4176904"
      ]
     },
     "metadata": {},
     "output_type": "display_data"
    }
   ],
   "source": [
    "omnibus_p_vals <- reward_change_by_cell %>%\n",
    "    group_by(cell_type) %>%\n",
    "    summarize(\n",
    "        cell_type=cell_type[1],\n",
    "        num_greater=sum(greater_p_value <= 0.05, na.rm=TRUE),\n",
    "        num_less=sum(less_p_value <= 0.05, na.rm=TRUE),\n",
    "        num_cells=length(greater_p_value),\n",
    "        greater_omnibus_p=omnibus_test(\n",
    "            sum(greater_p_value <= 0.05, na.rm=TRUE),\n",
    "            length(greater_p_value),\n",
    "            0.05\n",
    "        ),\n",
    "        less_omnibus_p=omnibus_test(\n",
    "            sum(less_p_value <= 0.05, na.rm=TRUE),\n",
    "            length(less_p_value),\n",
    "            0.05\n",
    "        )\n",
    "    )\n",
    "\n",
    "omnibus_p_vals[, 'pct_greater'] <- omnibus_p_vals[, 'num_greater'] / omnibus_p_vals[, 'num_cells']\n",
    "omnibus_p_vals[, 'pct_less'] <- omnibus_p_vals[, 'num_less'] / omnibus_p_vals[, 'num_cells']\n",
    "\n",
    "omnibus_p_vals"
   ]
  },
  {
   "cell_type": "code",
   "execution_count": 35,
   "metadata": {},
   "outputs": [
    {
     "name": "stderr",
     "output_type": "stream",
     "text": [
      "`summarise()` ungrouping output (override with `.groups` argument)\n",
      "`summarise()` ungrouping output (override with `.groups` argument)\n"
     ]
    },
    {
     "data": {
      "text/html": [
       "<table>\n",
       "<thead><tr><th scope=col>cell_type</th><th scope=col>num_greater</th><th scope=col>num_less</th><th scope=col>num_cells</th><th scope=col>greater_omnibus_p</th><th scope=col>less_omnibus_p</th><th scope=col>pct_greater</th><th scope=col>pct_less</th></tr></thead>\n",
       "<tbody>\n",
       "\t<tr><td>pv           </td><td>166          </td><td>  8          </td><td> 312         </td><td>1.245353e-127</td><td>9.888834e-01 </td><td>0.5320513    </td><td>0.02564103   </td></tr>\n",
       "\t<tr><td>pyr          </td><td>178          </td><td>244          </td><td>1207         </td><td> 2.696795e-37</td><td>3.300378e-77 </td><td>0.1474731    </td><td>0.20215410   </td></tr>\n",
       "\t<tr><td>vip          </td><td>119          </td><td> 26          </td><td> 407         </td><td> 1.853809e-56</td><td>1.226786e-01 </td><td>0.2923833    </td><td>0.06388206   </td></tr>\n",
       "</tbody>\n",
       "</table>\n"
      ],
      "text/latex": [
       "\\begin{tabular}{r|llllllll}\n",
       " cell\\_type & num\\_greater & num\\_less & num\\_cells & greater\\_omnibus\\_p & less\\_omnibus\\_p & pct\\_greater & pct\\_less\\\\\n",
       "\\hline\n",
       "\t pv            & 166           &   8           &  312          & 1.245353e-127 & 9.888834e-01  & 0.5320513     & 0.02564103   \\\\\n",
       "\t pyr           & 178           & 244           & 1207          &  2.696795e-37 & 3.300378e-77  & 0.1474731     & 0.20215410   \\\\\n",
       "\t vip           & 119           &  26           &  407          &  1.853809e-56 & 1.226786e-01  & 0.2923833     & 0.06388206   \\\\\n",
       "\\end{tabular}\n"
      ],
      "text/markdown": [
       "\n",
       "| cell_type | num_greater | num_less | num_cells | greater_omnibus_p | less_omnibus_p | pct_greater | pct_less |\n",
       "|---|---|---|---|---|---|---|---|\n",
       "| pv            | 166           |   8           |  312          | 1.245353e-127 | 9.888834e-01  | 0.5320513     | 0.02564103    |\n",
       "| pyr           | 178           | 244           | 1207          |  2.696795e-37 | 3.300378e-77  | 0.1474731     | 0.20215410    |\n",
       "| vip           | 119           |  26           |  407          |  1.853809e-56 | 1.226786e-01  | 0.2923833     | 0.06388206    |\n",
       "\n"
      ],
      "text/plain": [
       "  cell_type num_greater num_less num_cells greater_omnibus_p less_omnibus_p\n",
       "1 pv        166           8       312      1.245353e-127     9.888834e-01  \n",
       "2 pyr       178         244      1207       2.696795e-37     3.300378e-77  \n",
       "3 vip       119          26       407       1.853809e-56     1.226786e-01  \n",
       "  pct_greater pct_less  \n",
       "1 0.5320513   0.02564103\n",
       "2 0.1474731   0.20215410\n",
       "3 0.2923833   0.06388206"
      ]
     },
     "metadata": {},
     "output_type": "display_data"
    }
   ],
   "source": [
    "tone_change_by_cell <- similarity %>% \n",
    "    group_by(cell_id) %>% \n",
    "    summarize(\n",
    "        cell_id=cell_id[1],\n",
    "        cell_type=cell_type[1],\n",
    "        mouse_id=mouse_id[1],\n",
    "        greater_p_value=ifelse(\n",
    "            (sum(day == 1) > 0) & (sum(day == 7) > 0),\n",
    "            wilcox.test(\n",
    "                tone[day == 1], \n",
    "                tone[day == 7],\n",
    "                alternative='greater',\n",
    "                paired=FALSE,\n",
    "                na.action=na.exclude\n",
    "            )$p.value,\n",
    "            NA\n",
    "        ),\n",
    "        less_p_value=ifelse(\n",
    "            (sum(day == 1) > 0) & (sum(day == 7) > 0),\n",
    "            wilcox.test(\n",
    "                tone[day == 1], \n",
    "                tone[day == 7],\n",
    "                alternative='less',\n",
    "                paired=FALSE,\n",
    "                na.action=na.exclude\n",
    "            )$p.value,\n",
    "            NA\n",
    "        )\n",
    "    )\n",
    "\n",
    "omnibus_p_vals <- tone_change_by_cell %>%\n",
    "    group_by(cell_type) %>%\n",
    "    summarize(\n",
    "        cell_type=cell_type[1],\n",
    "        num_greater=sum(greater_p_value <= 0.05, na.rm=TRUE),\n",
    "        num_less=sum(less_p_value <= 0.05, na.rm=TRUE),\n",
    "        num_cells=length(greater_p_value),\n",
    "        greater_omnibus_p=omnibus_test(\n",
    "            sum(greater_p_value <= 0.05, na.rm=TRUE),\n",
    "            length(greater_p_value),\n",
    "            0.05\n",
    "        ),\n",
    "        less_omnibus_p=omnibus_test(\n",
    "            sum(less_p_value <= 0.05, na.rm=TRUE),\n",
    "            length(less_p_value),\n",
    "            0.05\n",
    "        )\n",
    "    )\n",
    "\n",
    "omnibus_p_vals[, 'pct_greater'] <- omnibus_p_vals[, 'num_greater'] / omnibus_p_vals[, 'num_cells']\n",
    "omnibus_p_vals[, 'pct_less'] <- omnibus_p_vals[, 'num_less'] / omnibus_p_vals[, 'num_cells']\n",
    "\n",
    "omnibus_p_vals"
   ]
  },
  {
   "cell_type": "code",
   "execution_count": null,
   "metadata": {},
   "outputs": [],
   "source": []
  }
 ],
 "metadata": {
  "kernelspec": {
   "display_name": "R",
   "language": "R",
   "name": "ir"
  },
  "language_info": {
   "codemirror_mode": "r",
   "file_extension": ".r",
   "mimetype": "text/x-r-source",
   "name": "R",
   "pygments_lexer": "r",
   "version": "3.6.1"
  }
 },
 "nbformat": 4,
 "nbformat_minor": 4
}
