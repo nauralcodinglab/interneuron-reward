{
 "cells": [
  {
   "cell_type": "code",
   "execution_count": 1,
   "metadata": {},
   "outputs": [],
   "source": [
    "import os\n",
    "\n",
    "import h5py\n",
    "import seaborn as sns\n",
    "import matplotlib.pyplot as plt\n",
    "import numpy as np\n",
    "from sklearn.manifold import TSNE\n",
    "from sklearn.decomposition import PCA\n",
    "from scipy.interpolate import UnivariateSpline\n",
    "\n",
    "from lib.data import raw_io as io\n",
    "from lib.data import tables as tab\n",
    "from lib.data import conditions as cond"
   ]
  },
  {
   "cell_type": "code",
   "execution_count": 2,
   "metadata": {},
   "outputs": [],
   "source": [
    "np.random.seed(42)"
   ]
  },
  {
   "cell_type": "code",
   "execution_count": 3,
   "metadata": {},
   "outputs": [],
   "source": [
    "engine = tab.sa.create_engine(os.environ['SQLALCHEMY_ENGINE_URL'])\n",
    "Session = tab.sa.orm.sessionmaker(bind=engine)\n",
    "session = Session()"
   ]
  },
  {
   "cell_type": "code",
   "execution_count": 4,
   "metadata": {},
   "outputs": [
    {
     "name": "stdout",
     "output_type": "stream",
     "text": [
      "(3339, 420)\n"
     ]
    }
   ],
   "source": [
    "average_traces = np.array([\n",
    "    tr.trace[:420] for tr in \n",
    "    session.query(tab.TrialAverageTrace)\n",
    "        .filter_by(day=7, trial_kind=cond.TrialKind.non_catch)\n",
    "        .all()\n",
    "    if not np.all(np.isnan(tr.trace))\n",
    "])\n",
    "print(average_traces.shape)"
   ]
  },
  {
   "cell_type": "code",
   "execution_count": 5,
   "metadata": {},
   "outputs": [],
   "source": [
    "average_traces = io.LongFluorescence(\n",
    "    np.arange(average_traces.shape[0]), \n",
    "    np.arange(average_traces.shape[0]), \n",
    "    average_traces\n",
    ")"
   ]
  },
  {
   "cell_type": "code",
   "execution_count": 9,
   "metadata": {},
   "outputs": [
    {
     "data": {
      "text/plain": [
       "Text(0.5, 0, 'Time (s)')"
      ]
     },
     "execution_count": 9,
     "metadata": {},
     "output_type": "execute_result"
    },
    {
     "data": {
      "image/png": "[encoded data removed]",
      "text/plain": [
       "<Figure size 432x288 with 1 Axes>"
      ]
     },
     "metadata": {
      "needs_background": "light"
     },
     "output_type": "display_data"
    }
   ],
   "source": [
    "plt.plot(average_traces.time, average_traces.fluo[0, :])\n",
    "plt.xlabel('Time (s)')"
   ]
  },
  {
   "cell_type": "markdown",
   "metadata": {},
   "source": [
    "# Aggregate fluorescence "
   ]
  },
  {
   "cell_type": "code",
   "execution_count": null,
   "metadata": {},
   "outputs": [],
   "source": [
    "pca = PCA(random_state=42)\n",
    "transformed = pca.fit_transform(average_traces.fluo)"
   ]
  },
  {
   "cell_type": "code",
   "execution_count": null,
   "metadata": {},
   "outputs": [],
   "source": [
    "plt.loglog(pca.explained_variance_ratio_)\n",
    "plt.ylabel('Fraction of total variance explained')\n",
    "plt.xlabel('Component no.')"
   ]
  },
  {
   "cell_type": "code",
   "execution_count": null,
   "metadata": {},
   "outputs": [],
   "source": [
    "plt.semilogx(np.cumsum(pca.explained_variance_ratio_))\n",
    "plt.ylabel('Fraction of total variance explained')\n",
    "plt.xlabel('Component no.')"
   ]
  },
  {
   "cell_type": "markdown",
   "metadata": {},
   "source": [
    "The first N components explain this much of the total variance."
   ]
  },
  {
   "cell_type": "code",
   "execution_count": null,
   "metadata": {},
   "outputs": [],
   "source": [
    "N = 20\n",
    "print('{:.1f} percent'.format(100 * pca.explained_variance_ratio_[:N].sum()))"
   ]
  },
  {
   "cell_type": "code",
   "execution_count": null,
   "metadata": {},
   "outputs": [],
   "source": [
    "plt.figure(figsize=(8, 4))\n",
    "\n",
    "ax = plt.subplot(111)\n",
    "ax.matshow(pca.components_[:N, :], aspect=4)\n",
    "ax.set_xlabel('Time (frames)')\n",
    "ax.set_ylabel('Component number')"
   ]
  },
  {
   "cell_type": "code",
   "execution_count": null,
   "metadata": {},
   "outputs": [],
   "source": [
    "plt.axvspan(0, 1, color='gray', label='Tone')\n",
    "plt.axvline(2.5, color='k', ls='--', label='Reward')\n",
    "\n",
    "for i in range(4):\n",
    "    plt.plot(np.arange(pca.components_.shape[1])/30 - 2, pca.components_[i, :], label='Component {}'.format(i))\n",
    "    \n",
    "plt.legend(loc='lower right')\n",
    "plt.xlabel('Time (s)')\n",
    "plt.ylabel('Fluorescence (AU)')"
   ]
  },
  {
   "cell_type": "markdown",
   "metadata": {},
   "source": [
    "## Denoising\n",
    "\n",
    "Reconstruct fluorescence signals using only the top few components."
   ]
  },
  {
   "cell_type": "code",
   "execution_count": null,
   "metadata": {},
   "outputs": [],
   "source": [
    "reconstructed = np.dot(transformed[:, :N], pca.components_[:N, :])"
   ]
  },
  {
   "cell_type": "markdown",
   "metadata": {},
   "source": [
    "Compare a few randomly-selected reconstructions."
   ]
  },
  {
   "cell_type": "code",
   "execution_count": null,
   "metadata": {},
   "outputs": [],
   "source": [
    "for i in np.random.choice(np.arange(0, average_traces.fluo.shape[0]), size=5, replace=False):\n",
    "    plt.figure(figsize=(8, 4))\n",
    "    \n",
    "    plt.subplot(121)\n",
    "    plt.plot(average_traces.time, average_traces.fluo[i, :], label='Original')\n",
    "    plt.plot(average_traces.time, reconstructed[i, :], label='Reconstructed')\n",
    "    plt.xlabel('Time (s)')\n",
    "    plt.ylabel('Z-score')\n",
    "    \n",
    "    plt.subplot(122)\n",
    "    plt.bar(np.arange(0, N), transformed[i, :N])\n",
    "    plt.ylabel('Weight')\n",
    "    plt.xlabel('Component number')\n",
    "    \n",
    "    plt.tight_layout()\n",
    "    plt.show()"
   ]
  },
  {
   "cell_type": "code",
   "execution_count": null,
   "metadata": {},
   "outputs": [],
   "source": [
    "plt.figure(figsize=(6, 8))\n",
    "\n",
    "ax = plt.subplot(121)\n",
    "ax.set_title('Original')\n",
    "ax.imshow(average_traces.fluo, aspect=0.2)\n",
    "ax.set_ylabel('Cell')\n",
    "\n",
    "ax_reconstructed = plt.subplot(122)\n",
    "ax_reconstructed.set_title('Reconstructed from top\\n{} components'.format(N))\n",
    "ax_reconstructed.imshow(reconstructed, aspect=0.2)\n",
    "ax_reconstructed.set_yticks([])\n",
    "\n",
    "plt.tight_layout()\n",
    "\n",
    "plt.show()"
   ]
  },
  {
   "cell_type": "markdown",
   "metadata": {},
   "source": [
    "# Representation of task structure\n",
    "\n",
    "...using top components\n",
    "\n",
    "The top few activity components explored above explain a large majority of Z-scored fluorescence. Next, we want to know how these components can capture trial structure."
   ]
  },
  {
   "cell_type": "code",
   "execution_count": null,
   "metadata": {},
   "outputs": [],
   "source": [
    "time_from_trial_start = (grand_fluo.time - 2.0)\n",
    "tone = (time_from_trial_start >= 0.) & (time_from_trial_start < 1.)\n",
    "delay = (time_from_trial_start >= 1.) & (time_from_trial_start < 2.5)\n",
    "reward = (time_from_trial_start >= 2.5) & (time_from_trial_start < 2.75)"
   ]
  },
  {
   "cell_type": "markdown",
   "metadata": {},
   "source": [
    "These are the activity components we'll try to use to capture the trial structure."
   ]
  },
  {
   "cell_type": "code",
   "execution_count": null,
   "metadata": {},
   "outputs": [],
   "source": [
    "top_components = pca.components_[:N, :].T"
   ]
  },
  {
   "cell_type": "code",
   "execution_count": null,
   "metadata": {},
   "outputs": [],
   "source": [
    "def ols(X, y):\n",
    "    # TODO add intercept\n",
    "    XTX = np.dot(X.T, X)\n",
    "    XTy = np.dot(X.T, y - y.mean())\n",
    "    coeffs = np.linalg.solve(XTX, XTy)\n",
    "    return coeffs"
   ]
  },
  {
   "cell_type": "code",
   "execution_count": null,
   "metadata": {},
   "outputs": [],
   "source": [
    "plt.figure(figsize=(8, 4))\n",
    "\n",
    "plt.subplot(121)\n",
    "plt.title('True trial structure')\n",
    "plt.plot(time_from_trial_start, tone, label='Tone')\n",
    "plt.plot(time_from_trial_start, delay, label='Delay')\n",
    "plt.plot(time_from_trial_start, reward, label='Reward')\n",
    "plt.ylabel('AU')\n",
    "plt.xlabel('Time from tone start (s)')\n",
    "plt.legend()\n",
    "\n",
    "plt.subplot(122)\n",
    "plt.title('Best approximation\\nusing top components')\n",
    "plt.plot(time_from_trial_start, np.dot(top_components, ols(top_components, tone)), label='Tone')\n",
    "plt.plot(time_from_trial_start, np.dot(top_components, ols(top_components, delay)), label='Delay')\n",
    "plt.plot(time_from_trial_start, np.dot(top_components, ols(top_components, reward)), label='Reward')\n",
    "plt.xlabel('Time from tone start (s)')\n",
    "plt.legend()\n",
    "\n",
    "plt.show()"
   ]
  },
  {
   "cell_type": "markdown",
   "metadata": {},
   "source": [
    "## How close does each cell type come to the best case?\n",
    "\n",
    "In other words, how similar is the activity of each cell to the activity that most accurately reflects a task variable *within principal component space*."
   ]
  },
  {
   "cell_type": "code",
   "execution_count": null,
   "metadata": {},
   "outputs": [],
   "source": [
    "def cos_similarity(a, b):\n",
    "    assert np.ndim(a) == 1\n",
    "    assert np.ndim(b) == 1\n",
    "    assert len(a) == len(b)\n",
    "    \n",
    "    return np.dot(a, b) / (np.linalg.norm(a) * np.linalg.norm(b))"
   ]
  },
  {
   "cell_type": "code",
   "execution_count": null,
   "metadata": {},
   "outputs": [],
   "source": [
    "def plot_similarities_by_celltype(similarities, cell_types):\n",
    "    similarities = np.asarray(similarities)\n",
    "    cell_types = np.asarray(cell_types)\n",
    "    assert similarities.ndim == 1\n",
    "    assert cell_types.ndim == 1\n",
    "    assert len(similarities) == len(cell_types)\n",
    "    \n",
    "    plt.figure(figsize=(8, 4))\n",
    "\n",
    "    ax_hist = plt.subplot(121)\n",
    "    plt.xlim(-1, 1)\n",
    "    plt.yticks([])\n",
    "    plt.xticks([-1, -0.5, 0, 0.5, 1])\n",
    "    plt.xlabel('Cosine similarity')\n",
    "\n",
    "    ax_kde = plt.subplot(122)\n",
    "    plt.xlim(-1, 1)\n",
    "    plt.xticks([-1, -0.5, 0, 0.5, 1])\n",
    "    plt.yticks([])\n",
    "    plt.xlabel('Cosine similarity')\n",
    "\n",
    "    bins = np.linspace(-1, 1, 30)\n",
    "    ax_hist.hist(similarities, bins=bins, density=True, label='All cells', color='gray')\n",
    "    sns.kdeplot(similarities, label='All cells', color='gray', shade=True, ax=ax_kde)\n",
    "\n",
    "    for cell_type in cond.CellType:\n",
    "        ax_hist.hist(\n",
    "            similarities[cell_types == str(cell_type)],\n",
    "            bins=bins,\n",
    "            density=True,\n",
    "            lw=2,\n",
    "            label=str(cell_type), \n",
    "            histtype='step'\n",
    "        )\n",
    "\n",
    "        sns.kdeplot(\n",
    "            similarities[cell_types == str(cell_type)],\n",
    "            label=str(cell_type)\n",
    "        )\n",
    "\n",
    "    ax_hist.legend()\n",
    "    ax_kde.legend()\n",
    "\n",
    "    plt.tight_layout()\n",
    "    plt.show()"
   ]
  },
  {
   "cell_type": "code",
   "execution_count": null,
   "metadata": {},
   "outputs": [],
   "source": [
    "coeffs = ols(top_components, tone)\n",
    "tone_similarities = np.array([cos_similarity(transformed[i, :N], coeffs) for i in range(transformed.shape[0])])\n",
    "plot_similarities_by_celltype(tone_similarities, grand_fluo.cell_type)"
   ]
  },
  {
   "cell_type": "code",
   "execution_count": null,
   "metadata": {},
   "outputs": [],
   "source": [
    "coeffs = ols(top_components, delay)\n",
    "delay_similarities = np.array([cos_similarity(transformed[i, :N], coeffs) for i in range(transformed.shape[0])])\n",
    "plot_similarities_by_celltype(delay_similarities, grand_fluo.cell_type)"
   ]
  },
  {
   "cell_type": "code",
   "execution_count": null,
   "metadata": {},
   "outputs": [],
   "source": [
    "coeffs = ols(top_components, reward)\n",
    "reward_similarities = np.array([cos_similarity(transformed[i, :N], coeffs) for i in range(transformed.shape[0])])\n",
    "plot_similarities_by_celltype(reward_similarities, grand_fluo.cell_type)"
   ]
  },
  {
   "cell_type": "markdown",
   "metadata": {},
   "source": [
    "### Are the SOM neurons that encode the tone/reward the new ones?"
   ]
  },
  {
   "cell_type": "code",
   "execution_count": null,
   "metadata": {},
   "outputs": [],
   "source": [
    "plt.plot(\n",
    "    tone_similarities[np.asarray(grand_fluo.cell_type) == str(cond.CellType.som)],\n",
    "    '.',\n",
    "    label='Tone'\n",
    ")\n",
    "plt.plot(\n",
    "    delay_similarities[np.asarray(grand_fluo.cell_type) == str(cond.CellType.som)],\n",
    "    '.',\n",
    "    label='Delay'\n",
    ")\n",
    "plt.plot(\n",
    "    reward_similarities[np.asarray(grand_fluo.cell_type) == str(cond.CellType.som)],\n",
    "    '.',\n",
    "    label='Reward'\n",
    ")\n",
    "plt.xlabel('Cell index')\n",
    "plt.ylabel('Tone similarity')\n",
    "plt.legend()"
   ]
  },
  {
   "cell_type": "code",
   "execution_count": null,
   "metadata": {},
   "outputs": [],
   "source": [
    "def plot_similarity_by_index(cell_type, smooth=False):\n",
    "    for sim, label in zip(\n",
    "        [tone_similarities, delay_similarities, reward_similarities], \n",
    "        ['Tone', 'Delay', 'Reward']\n",
    "    ):\n",
    "        sim_for_cell_type = sim[np.asarray(grand_fluo.cell_type) == str(cell_type)]\n",
    "        x = np.arange(0, len(sim_for_cell_type))\n",
    "        if smooth:\n",
    "            spline = UnivariateSpline(x, sim_for_cell_type, s=3 * len(x) / 50)\n",
    "            plt.plot(x, spline(x), '-', label=label)\n",
    "        else:\n",
    "            plt.plot(x, sim_for_cell_type, '.', label=label)\n",
    "\n",
    "    plt.xlabel('Cell index')\n",
    "    plt.ylabel('Tone similarity')\n",
    "    plt.legend()"
   ]
  },
  {
   "cell_type": "code",
   "execution_count": null,
   "metadata": {},
   "outputs": [],
   "source": [
    "for cell_type in cond.CellType:\n",
    "    plt.figure(figsize=(8, 4))\n",
    "    \n",
    "    plt.subplot(121)\n",
    "    plt.title(str(cell_type))\n",
    "    plot_similarity_by_index(cell_type)\n",
    "    \n",
    "    plt.subplot(122)\n",
    "    plt.title(str(cell_type) + ' smoothed')\n",
    "    plot_similarity_by_index(cell_type, True)\n",
    "    \n",
    "    plt.tight_layout()\n",
    "    plt.show()"
   ]
  },
  {
   "cell_type": "code",
   "execution_count": null,
   "metadata": {},
   "outputs": [],
   "source": [
    "plt.plot(\n",
    "    tone_similarities[np.asarray(grand_fluo.cell_type) == str(cond.CellType.som)],\n",
    "    '.',\n",
    "    label='Tone'\n",
    ")\n",
    "plt.plot(\n",
    "    delay_similarities[np.asarray(grand_fluo.cell_type) == str(cond.CellType.som)],\n",
    "    '.',\n",
    "    label='Delay'\n",
    ")\n",
    "plt.plot(\n",
    "    reward_similarities[np.asarray(grand_fluo.cell_type) == str(cond.CellType.som)],\n",
    "    '.',\n",
    "    label='Reward'\n",
    ")\n",
    "plt.xlabel('Cell index')\n",
    "plt.ylabel('Tone similarity')\n",
    "plt.legend()"
   ]
  },
  {
   "cell_type": "code",
   "execution_count": null,
   "metadata": {},
   "outputs": [],
   "source": []
  }
 ],
 "metadata": {
  "kernelspec": {
   "display_name": "Python 3",
   "language": "python",
   "name": "python3"
  },
  "language_info": {
   "codemirror_mode": {
    "name": "ipython",
    "version": 3
   },
   "file_extension": ".py",
   "mimetype": "text/x-python",
   "name": "python",
   "nbconvert_exporter": "python",
   "pygments_lexer": "ipython3",
   "version": "3.8.3"
  }
 },
 "nbformat": 4,
 "nbformat_minor": 4
}
